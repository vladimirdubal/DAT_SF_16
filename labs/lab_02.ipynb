{
 "cells": [
  {
   "cell_type": "markdown",
   "metadata": {},
   "source": [
    "# GA Data Science 16 (DAT16) - Lab2\n",
    "###The Beginning of the Data Pipeline"
   ]
  },
  {
   "cell_type": "markdown",
   "metadata": {},
   "source": [
    "Justin Breucop"
   ]
  },
  {
   "cell_type": "markdown",
   "metadata": {},
   "source": [
    "## Lab goals\n",
    "\n",
    "- Flow Control: Mastering the Waves\n",
    "- Python packages: writing your own functions and classes\n",
    "- Kimono Labs: an external tool for aquiring data"
   ]
  },
  {
   "cell_type": "markdown",
   "metadata": {},
   "source": [
    "##Flow Control: Catching your rhythm\n",
    "To review: programming loops have various ways to control your approach. Using the keywords `for` and `while` create a loop that runs over an iterable data type (lists, dictionaries, etc.) or based on a condition, respectively.\n",
    "\n",
    "Let's make sure we remember this process."
   ]
  },
  {
   "cell_type": "code",
   "execution_count": 77,
   "metadata": {
    "collapsed": false,
    "scrolled": true
   },
   "outputs": [
    {
     "name": "stdout",
     "output_type": "stream",
     "text": [
      "5\n",
      "9\n",
      "3\n",
      "10\n",
      "1\n",
      "2\n",
      "27\n"
     ]
    }
   ],
   "source": [
    "a = [5,9,3,10,1,2,27]\n",
    "for val in a:\n",
    "    print val"
   ]
  },
  {
   "cell_type": "code",
   "execution_count": 78,
   "metadata": {
    "collapsed": false
   },
   "outputs": [
    {
     "name": "stdout",
     "output_type": "stream",
     "text": [
      "iteration 1\n",
      "iteration 2\n",
      "iteration 3\n",
      "iteration 4\n",
      "iteration 5\n"
     ]
    }
   ],
   "source": [
    "i = 0\n",
    "while i < 5:\n",
    "    i += 1\n",
    "    print \"iteration\",i"
   ]
  },
  {
   "cell_type": "code",
   "execution_count": 79,
   "metadata": {
    "collapsed": false
   },
   "outputs": [
    {
     "name": "stdout",
     "output_type": "stream",
     "text": [
      "5\n",
      "Too much!\n",
      "3\n",
      "Too much!\n",
      "1\n",
      "2\n",
      "Too much!\n"
     ]
    }
   ],
   "source": [
    "for val in a:\n",
    "    if val < 9:\n",
    "        print val\n",
    "    else:\n",
    "        print \"Too much!\""
   ]
  },
  {
   "cell_type": "markdown",
   "metadata": {},
   "source": [
    "If/Else statements are great ways to insert logical checks or allow for alternatives"
   ]
  },
  {
   "cell_type": "code",
   "execution_count": 80,
   "metadata": {
    "collapsed": false,
    "scrolled": true
   },
   "outputs": [
    {
     "name": "stdout",
     "output_type": "stream",
     "text": [
      "5\n",
      "3\n"
     ]
    }
   ],
   "source": [
    "\n",
    "for i,val in enumerate(a):\n",
    "\n",
    "    if val < 9:\n",
    "        print val\n",
    "    \n",
    "    if i == 3:\n",
    "        break"
   ]
  },
  {
   "cell_type": "markdown",
   "metadata": {},
   "source": [
    "Break breaks the loop"
   ]
  },
  {
   "cell_type": "markdown",
   "metadata": {
    "collapsed": false
   },
   "source": [
    "##Python Packages and the Magic Within\n",
    "Python has a large number of packages, libraries, modules, functions, etc. and you'll hear these terms thrown around a lot. Here we'll define our vocabulary."
   ]
  },
  {
   "cell_type": "code",
   "execution_count": 1,
   "metadata": {
    "collapsed": true
   },
   "outputs": [],
   "source": [
    "import numpy as np"
   ]
  },
  {
   "cell_type": "markdown",
   "metadata": {},
   "source": [
    "Here, we are importing the package numpy. This allows us to reference modules underneath it. Modules are the text files that define functions and classes that can be referenced. Using the word `as` lets us give the numpy package a shortened alias. This is a common practice, but ultimately your choice. At large the python community tends to have standard aliases used (because programmers are lazy and that's a good thing).\n",
    "\n",
    "Note, some people refer to packages in python as \"libraries\". This is fine; don't judge them.\n",
    "\n",
    "Let's see what the documentation has to say about a specific function in np:"
   ]
  },
  {
   "cell_type": "code",
   "execution_count": 2,
   "metadata": {
    "collapsed": false,
    "scrolled": true
   },
   "outputs": [
    {
     "name": "stdout",
     "output_type": "stream",
     "text": [
      "Help on built-in function array in module numpy.core.multiarray:\n",
      "\n",
      "array(...)\n",
      "    array(object, dtype=None, copy=True, order=None, subok=False, ndmin=0)\n",
      "    \n",
      "    Create an array.\n",
      "    \n",
      "    Parameters\n",
      "    ----------\n",
      "    object : array_like\n",
      "        An array, any object exposing the array interface, an\n",
      "        object whose __array__ method returns an array, or any\n",
      "        (nested) sequence.\n",
      "    dtype : data-type, optional\n",
      "        The desired data-type for the array.  If not given, then\n",
      "        the type will be determined as the minimum type required\n",
      "        to hold the objects in the sequence.  This argument can only\n",
      "        be used to 'upcast' the array.  For downcasting, use the\n",
      "        .astype(t) method.\n",
      "    copy : bool, optional\n",
      "        If true (default), then the object is copied.  Otherwise, a copy\n",
      "        will only be made if __array__ returns a copy, if obj is a\n",
      "        nested sequence, or if a copy is needed to satisfy any of the other\n",
      "        requirements (`dtype`, `order`, etc.).\n",
      "    order : {'C', 'F', 'A'}, optional\n",
      "        Specify the order of the array.  If order is 'C' (default), then the\n",
      "        array will be in C-contiguous order (last-index varies the\n",
      "        fastest).  If order is 'F', then the returned array\n",
      "        will be in Fortran-contiguous order (first-index varies the\n",
      "        fastest).  If order is 'A', then the returned array may\n",
      "        be in any order (either C-, Fortran-contiguous, or even\n",
      "        discontiguous).\n",
      "    subok : bool, optional\n",
      "        If True, then sub-classes will be passed-through, otherwise\n",
      "        the returned array will be forced to be a base-class array (default).\n",
      "    ndmin : int, optional\n",
      "        Specifies the minimum number of dimensions that the resulting\n",
      "        array should have.  Ones will be pre-pended to the shape as\n",
      "        needed to meet this requirement.\n",
      "    \n",
      "    Returns\n",
      "    -------\n",
      "    out : ndarray\n",
      "        An array object satisfying the specified requirements.\n",
      "    \n",
      "    See Also\n",
      "    --------\n",
      "    empty, empty_like, zeros, zeros_like, ones, ones_like, fill\n",
      "    \n",
      "    Examples\n",
      "    --------\n",
      "    >>> np.array([1, 2, 3])\n",
      "    array([1, 2, 3])\n",
      "    \n",
      "    Upcasting:\n",
      "    \n",
      "    >>> np.array([1, 2, 3.0])\n",
      "    array([ 1.,  2.,  3.])\n",
      "    \n",
      "    More than one dimension:\n",
      "    \n",
      "    >>> np.array([[1, 2], [3, 4]])\n",
      "    array([[1, 2],\n",
      "           [3, 4]])\n",
      "    \n",
      "    Minimum dimensions 2:\n",
      "    \n",
      "    >>> np.array([1, 2, 3], ndmin=2)\n",
      "    array([[1, 2, 3]])\n",
      "    \n",
      "    Type provided:\n",
      "    \n",
      "    >>> np.array([1, 2, 3], dtype=complex)\n",
      "    array([ 1.+0.j,  2.+0.j,  3.+0.j])\n",
      "    \n",
      "    Data-type consisting of more than one element:\n",
      "    \n",
      "    >>> x = np.array([(1,2),(3,4)],dtype=[('a','<i4'),('b','<i4')])\n",
      "    >>> x['a']\n",
      "    array([1, 3])\n",
      "    \n",
      "    Creating an array from sub-classes:\n",
      "    \n",
      "    >>> np.array(np.mat('1 2; 3 4'))\n",
      "    array([[1, 2],\n",
      "           [3, 4]])\n",
      "    \n",
      "    >>> np.array(np.mat('1 2; 3 4'), subok=True)\n",
      "    matrix([[1, 2],\n",
      "            [3, 4]])\n",
      "\n"
     ]
    }
   ],
   "source": [
    "help(np.array)"
   ]
  },
  {
   "cell_type": "markdown",
   "metadata": {},
   "source": [
    "Note that this function is in a module titled numpy.core.multiarray. The periods reference namespacing, which is like referencing files within a directory."
   ]
  },
  {
   "cell_type": "markdown",
   "metadata": {},
   "source": [
    "##Writing Functions and Classes: making your own tools"
   ]
  },
  {
   "cell_type": "markdown",
   "metadata": {},
   "source": [
    "Functions are extremely important because they allow us to not repeat work, preserve code, and even serve as building blocks for more complex functions. We will explore the syntax here."
   ]
  },
  {
   "cell_type": "code",
   "execution_count": 3,
   "metadata": {
    "collapsed": false,
    "scrolled": false
   },
   "outputs": [
    {
     "data": {
      "text/plain": [
       "81"
      ]
     },
     "execution_count": 3,
     "metadata": {},
     "output_type": "execute_result"
    }
   ],
   "source": [
    "def square(x):\n",
    "    result = x*x\n",
    "    return result\n",
    "\n",
    "square(9)"
   ]
  },
  {
   "cell_type": "markdown",
   "metadata": {},
   "source": [
    "You can even put loops in your function"
   ]
  },
  {
   "cell_type": "code",
   "execution_count": 6,
   "metadata": {
    "collapsed": false
   },
   "outputs": [
    {
     "data": {
      "text/plain": [
       "3628800"
      ]
     },
     "execution_count": 6,
     "metadata": {},
     "output_type": "execute_result"
    }
   ],
   "source": [
    "def factorial(x):\n",
    "    start = 1\n",
    "    for value in range(1,x+1):\n",
    "        start = start*value\n",
    "    return start\n",
    "\n",
    "factorial(10)"
   ]
  },
  {
   "cell_type": "markdown",
   "metadata": {},
   "source": [
    "###Exercise 1.1\n",
    "Write a function that subtracts two values."
   ]
  },
  {
   "cell_type": "code",
   "execution_count": 8,
   "metadata": {
    "collapsed": false,
    "scrolled": true
   },
   "outputs": [
    {
     "ename": "NameError",
     "evalue": "name 'result' is not defined",
     "output_type": "error",
     "traceback": [
      "\u001b[0;31m---------------------------------------------------------------------------\u001b[0m",
      "\u001b[0;31mNameError\u001b[0m                                 Traceback (most recent call last)",
      "\u001b[0;32m<ipython-input-8-819e2eca8219>\u001b[0m in \u001b[0;36m<module>\u001b[0;34m()\u001b[0m\n\u001b[0;32m----> 1\u001b[0;31m \u001b[0;32mprint\u001b[0m \u001b[0mresult\u001b[0m\u001b[0;34m\u001b[0m\u001b[0m\n\u001b[0m",
      "\u001b[0;31mNameError\u001b[0m: name 'result' is not defined"
     ]
    }
   ],
   "source": [
    "print result"
   ]
  },
  {
   "cell_type": "markdown",
   "metadata": {},
   "source": [
    "But wait, you say. Those are related! And what if I want to recall the result and interact with a changing object? Well we'll group them in to a class called `calculator` \n",
    "\n",
    "BIG TAKEAWAY: Use a class for object oriented programming. If you have an object you want to preserve and modify with other functions, classes offer a truncated way to go about this."
   ]
  },
  {
   "cell_type": "code",
   "execution_count": 52,
   "metadata": {
    "collapsed": false
   },
   "outputs": [],
   "source": [
    "class calculator():\n",
    "    result = 0\n",
    "    def square(self):\n",
    "        val =self.result\n",
    "        self.result = val*val\n",
    "        return self.result\n",
    "    \n",
    "    def factorial(self):\n",
    "        \n",
    "        val = 1\n",
    "        for n in range(2,self.result+1):\n",
    "            val = val*n\n",
    "        self.result = val\n",
    "        return self.result\n",
    "    \n",
    "    def add(self,y):\n",
    "        self.result += y\n",
    "        return self.result\n",
    "    \n"
   ]
  },
  {
   "cell_type": "code",
   "execution_count": 54,
   "metadata": {
    "collapsed": false
   },
   "outputs": [
    {
     "name": "stdout",
     "output_type": "stream",
     "text": [
      "Hermes: 103\n",
      "Bob: 120\n"
     ]
    }
   ],
   "source": [
    "hermes = calculator()\n",
    "hermes.add(10)\n",
    "hermes.square()\n",
    "hermes.add(3)\n",
    "print \"Hermes:\",hermes.result\n",
    "\n",
    "bob = calculator()\n",
    "bob.add(5)\n",
    "bob.factorial()\n",
    "print \"Bob:\",bob.result"
   ]
  },
  {
   "cell_type": "markdown",
   "metadata": {},
   "source": [
    "###Bonus:\n",
    "Modify the class to add a inversion function (1 divided by itself)\n",
    "Demonstrate its use. Is the returned value correct (hint: think of numerical data types)"
   ]
  },
  {
   "cell_type": "code",
   "execution_count": null,
   "metadata": {
    "collapsed": true
   },
   "outputs": [],
   "source": []
  },
  {
   "cell_type": "markdown",
   "metadata": {},
   "source": [
    "For more information, visit https://docs.python.org/2/tutorial/classes.html\n",
    "\n",
    "If you find yourself writing classes, please see me in office hours to learn about `__init__`"
   ]
  },
  {
   "cell_type": "markdown",
   "metadata": {},
   "source": [
    "## Kimono Labs\n",
    "\n"
   ]
  },
  {
   "cell_type": "markdown",
   "metadata": {},
   "source": [
    "Web scraping with the Kimono Labs API\n",
    "\n",
    "https://www.kimonolabs.com/"
   ]
  },
  {
   "cell_type": "code",
   "execution_count": 64,
   "metadata": {
    "collapsed": false
   },
   "outputs": [],
   "source": [
    "\n",
    "api_key = 'Your API Key'"
   ]
  },
  {
   "cell_type": "code",
   "execution_count": 61,
   "metadata": {
    "collapsed": false
   },
   "outputs": [],
   "source": [
    "import json\n",
    "import urllib\n",
    "import pandas as pd\n",
    "\n",
    "def getMovies(year, api_key=api_key):\n",
    "    \"\"\"\n",
    "    Creates list of top 50 movies by gross box office\n",
    "    sales for a year with ratings and sales\n",
    "    \"\"\"\n",
    "    \n",
    "    movies, ratings, sales = [], [], []\n",
    "    #Remember to replace this link with the link to your specifc API\n",
    "    url = \"https://www.kimonolabs.com/api/eb81bu78?\" + \\\n",
    "            \"apikey={}\".format(api_key) + \\\n",
    "            \"&year={year}\".format(year=str(year)) \n",
    "    \n",
    "    data = json.load(urllib.urlopen(url))\n",
    "    \n",
    "    # Iterate through json object to collect data\n",
    "    for n in xrange(data['count']):\n",
    "        n_title = data['results']['collection1'][n]['title']['text']\n",
    "        n_rating = data['results']['collection1'][n]['rating']\n",
    "        n_sales = data['results']['collection1'][n]['sales']\n",
    "        movies.append(n_title)\n",
    "        ratings.append(n_rating)\n",
    "        sales.append(n_sales)\n",
    "    \n",
    "    data = pd.DataFrame({'movie':movies,'rating':ratings,'sales':sales})\n",
    "    \n",
    "    return data\n"
   ]
  },
  {
   "cell_type": "code",
   "execution_count": 62,
   "metadata": {
    "collapsed": false
   },
   "outputs": [],
   "source": [
    "movies_1990 = getMovies(1990)"
   ]
  },
  {
   "cell_type": "code",
   "execution_count": 63,
   "metadata": {
    "collapsed": false
   },
   "outputs": [
    {
     "data": {
      "text/html": [
       "<div>\n",
       "<table border=\"1\" class=\"dataframe\">\n",
       "  <thead>\n",
       "    <tr style=\"text-align: right;\">\n",
       "      <th></th>\n",
       "      <th>movie</th>\n",
       "      <th>rating</th>\n",
       "      <th>sales</th>\n",
       "    </tr>\n",
       "  </thead>\n",
       "  <tbody>\n",
       "    <tr>\n",
       "      <th>0</th>\n",
       "      <td>How the Grinch Stole Christmas</td>\n",
       "      <td>6.0</td>\n",
       "      <td>$260M</td>\n",
       "    </tr>\n",
       "    <tr>\n",
       "      <th>1</th>\n",
       "      <td>Cast Away</td>\n",
       "      <td>7.7</td>\n",
       "      <td>$234M</td>\n",
       "    </tr>\n",
       "    <tr>\n",
       "      <th>2</th>\n",
       "      <td>Mission: Impossible II</td>\n",
       "      <td>6.0</td>\n",
       "      <td>$215M</td>\n",
       "    </tr>\n",
       "    <tr>\n",
       "      <th>3</th>\n",
       "      <td>Gladiator</td>\n",
       "      <td>8.5</td>\n",
       "      <td>$188M</td>\n",
       "    </tr>\n",
       "    <tr>\n",
       "      <th>4</th>\n",
       "      <td>Meet the Parents</td>\n",
       "      <td>7.0</td>\n",
       "      <td>$166M</td>\n",
       "    </tr>\n",
       "  </tbody>\n",
       "</table>\n",
       "</div>"
      ],
      "text/plain": [
       "                            movie rating  sales\n",
       "0  How the Grinch Stole Christmas    6.0  $260M\n",
       "1                       Cast Away    7.7  $234M\n",
       "2          Mission: Impossible II    6.0  $215M\n",
       "3                       Gladiator    8.5  $188M\n",
       "4                Meet the Parents    7.0  $166M"
      ]
     },
     "execution_count": 63,
     "metadata": {},
     "output_type": "execute_result"
    }
   ],
   "source": [
    "# print movies_1990\n",
    "# print movies_1990['count']\n",
    "# print movies_1990['results']\n",
    "# print movies_1990['results']['collection1']\n",
    "# print movies_1990['results']['collection1'][0]\n",
    "# print movies_1990['results']['collection1'][0]['title']\n",
    "# print movies_1990['results']['collection1'][0]['title']['text']\n",
    "movies_1990.head()"
   ]
  },
  {
   "cell_type": "code",
   "execution_count": null,
   "metadata": {
    "collapsed": false
   },
   "outputs": [],
   "source": [
    "movies_2000 = getMovies(2000)\n",
    "movies_2000"
   ]
  },
  {
   "cell_type": "code",
   "execution_count": null,
   "metadata": {
    "collapsed": false
   },
   "outputs": [],
   "source": [
    "all_movies = pd.concat([movies_1990, movies_2000])"
   ]
  },
  {
   "cell_type": "markdown",
   "metadata": {},
   "source": [
    "###Exercise 2.1\n",
    "Build your own api via kimono at https://www.kimonolabs.com/. Create the api we created in class to call the data.\n",
    "\n",
    "What were the average sales in 1995?\n",
    "What was the average rating?"
   ]
  },
  {
   "cell_type": "code",
   "execution_count": null,
   "metadata": {
    "collapsed": true
   },
   "outputs": [],
   "source": []
  },
  {
   "cell_type": "markdown",
   "metadata": {},
   "source": [
    "###Bonus\n",
    "What were the average sales for the 90s? How does that differ from the 2000s?"
   ]
  },
  {
   "cell_type": "code",
   "execution_count": null,
   "metadata": {
    "collapsed": true
   },
   "outputs": [],
   "source": []
  }
 ],
 "metadata": {
  "kernelspec": {
   "display_name": "Python 2",
   "language": "python",
   "name": "python2"
  },
  "language_info": {
   "codemirror_mode": {
    "name": "ipython",
    "version": 2
   },
   "file_extension": ".py",
   "mimetype": "text/x-python",
   "name": "python",
   "nbconvert_exporter": "python",
   "pygments_lexer": "ipython2",
   "version": "2.7.6"
  }
 },
 "nbformat": 4,
 "nbformat_minor": 0
}
