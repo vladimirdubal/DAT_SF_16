{
 "cells": [
  {
   "cell_type": "markdown",
   "metadata": {},
   "source": [
    "# KNN"
   ]
  },
  {
   "cell_type": "code",
   "execution_count": 1,
   "metadata": {
    "collapsed": false
   },
   "outputs": [],
   "source": [
    "import pandas as pd\n",
    "import numpy as np\n",
    "import matplotlib.pyplot as plt\n",
    "import pandas.tools.plotting\n",
    "from sklearn.cross_validation import train_test_split\n",
    "%matplotlib inline"
   ]
  },
  {
   "cell_type": "code",
   "execution_count": 2,
   "metadata": {
    "collapsed": false
   },
   "outputs": [
    {
     "data": {
      "text/plain": [
       "'\\n1. Number of times pregnant \\n2. Plasma glucose concentration a 2 hours in an oral glucose tolerance test \\n3. Diastolic blood pressure (mm Hg) \\n4. Triceps skin fold thickness (mm) \\n5. 2-Hour serum insulin (mu U/ml) \\n6. Body mass index (weight in kg/(height in m)^2) \\n7. Diabetes pedigree function \\n8. Age (years) \\n9. Class variable (0 or 1) \\n'"
      ]
     },
     "execution_count": 2,
     "metadata": {},
     "output_type": "execute_result"
    }
   ],
   "source": [
    "\"\"\"\n",
    "1. Number of times pregnant \n",
    "2. Plasma glucose concentration a 2 hours in an oral glucose tolerance test \n",
    "3. Diastolic blood pressure (mm Hg) \n",
    "4. Triceps skin fold thickness (mm) \n",
    "5. 2-Hour serum insulin (mu U/ml) \n",
    "6. Body mass index (weight in kg/(height in m)^2) \n",
    "7. Diabetes pedigree function \n",
    "8. Age (years) \n",
    "9. Class variable (0 or 1) \n",
    "\"\"\""
   ]
  },
  {
   "cell_type": "code",
   "execution_count": 3,
   "metadata": {
    "collapsed": false
   },
   "outputs": [
    {
     "data": {
      "text/html": [
       "<div>\n",
       "<table border=\"1\" class=\"dataframe\">\n",
       "  <thead>\n",
       "    <tr style=\"text-align: right;\">\n",
       "      <th></th>\n",
       "      <th>#_pregnants</th>\n",
       "      <th>plasma</th>\n",
       "      <th>b_press</th>\n",
       "      <th>triceps</th>\n",
       "      <th>insulin</th>\n",
       "      <th>bmi</th>\n",
       "      <th>diab-ped-func</th>\n",
       "      <th>age</th>\n",
       "      <th>class_var</th>\n",
       "    </tr>\n",
       "  </thead>\n",
       "  <tbody>\n",
       "    <tr>\n",
       "      <th>0</th>\n",
       "      <td>6</td>\n",
       "      <td>148</td>\n",
       "      <td>72</td>\n",
       "      <td>35</td>\n",
       "      <td>0</td>\n",
       "      <td>33.6</td>\n",
       "      <td>0.627</td>\n",
       "      <td>50</td>\n",
       "      <td>1</td>\n",
       "    </tr>\n",
       "    <tr>\n",
       "      <th>1</th>\n",
       "      <td>1</td>\n",
       "      <td>85</td>\n",
       "      <td>66</td>\n",
       "      <td>29</td>\n",
       "      <td>0</td>\n",
       "      <td>26.6</td>\n",
       "      <td>0.351</td>\n",
       "      <td>31</td>\n",
       "      <td>0</td>\n",
       "    </tr>\n",
       "    <tr>\n",
       "      <th>2</th>\n",
       "      <td>8</td>\n",
       "      <td>183</td>\n",
       "      <td>64</td>\n",
       "      <td>0</td>\n",
       "      <td>0</td>\n",
       "      <td>23.3</td>\n",
       "      <td>0.672</td>\n",
       "      <td>32</td>\n",
       "      <td>1</td>\n",
       "    </tr>\n",
       "    <tr>\n",
       "      <th>3</th>\n",
       "      <td>1</td>\n",
       "      <td>89</td>\n",
       "      <td>66</td>\n",
       "      <td>23</td>\n",
       "      <td>94</td>\n",
       "      <td>28.1</td>\n",
       "      <td>0.167</td>\n",
       "      <td>21</td>\n",
       "      <td>0</td>\n",
       "    </tr>\n",
       "    <tr>\n",
       "      <th>4</th>\n",
       "      <td>0</td>\n",
       "      <td>137</td>\n",
       "      <td>40</td>\n",
       "      <td>35</td>\n",
       "      <td>168</td>\n",
       "      <td>43.1</td>\n",
       "      <td>2.288</td>\n",
       "      <td>33</td>\n",
       "      <td>1</td>\n",
       "    </tr>\n",
       "  </tbody>\n",
       "</table>\n",
       "</div>"
      ],
      "text/plain": [
       "   #_pregnants  plasma  b_press  triceps  insulin   bmi  diab-ped-func  age  \\\n",
       "0            6     148       72       35        0  33.6          0.627   50   \n",
       "1            1      85       66       29        0  26.6          0.351   31   \n",
       "2            8     183       64        0        0  23.3          0.672   32   \n",
       "3            1      89       66       23       94  28.1          0.167   21   \n",
       "4            0     137       40       35      168  43.1          2.288   33   \n",
       "\n",
       "   class_var  \n",
       "0          1  \n",
       "1          0  \n",
       "2          1  \n",
       "3          0  \n",
       "4          1  "
      ]
     },
     "execution_count": 3,
     "metadata": {},
     "output_type": "execute_result"
    }
   ],
   "source": [
    "# when do I use df = pd.DataFrame.from_csv (   )\n",
    "\n",
    "headers=[\n",
    "    '#_pregnants',\n",
    "    'plasma',\n",
    "    'b_press',\n",
    "    'triceps',\n",
    "    'insulin',\n",
    "    'bmi',\n",
    "    'diab-ped-func',\n",
    "    'age',\n",
    "    'class_var'\n",
    "    ]\n",
    "    \n",
    "subjects = pd.read_csv(\"pima-indians-diabetes.data\", names=headers)\n",
    "    \n",
    "subjects.head()"
   ]
  },
  {
   "cell_type": "code",
   "execution_count": null,
   "metadata": {
    "collapsed": true
   },
   "outputs": [],
   "source": []
  },
  {
   "cell_type": "code",
   "execution_count": 4,
   "metadata": {
    "collapsed": false
   },
   "outputs": [
    {
     "data": {
      "text/html": [
       "<div>\n",
       "<table border=\"1\" class=\"dataframe\">\n",
       "  <thead>\n",
       "    <tr style=\"text-align: right;\">\n",
       "      <th></th>\n",
       "      <th>#_pregnants</th>\n",
       "      <th>plasma</th>\n",
       "      <th>b_press</th>\n",
       "      <th>triceps</th>\n",
       "      <th>insulin</th>\n",
       "      <th>bmi</th>\n",
       "      <th>diab-ped-func</th>\n",
       "      <th>age</th>\n",
       "      <th>class_var</th>\n",
       "    </tr>\n",
       "  </thead>\n",
       "  <tbody>\n",
       "    <tr>\n",
       "      <th>count</th>\n",
       "      <td>768.000000</td>\n",
       "      <td>768.000000</td>\n",
       "      <td>768.000000</td>\n",
       "      <td>768.000000</td>\n",
       "      <td>768.000000</td>\n",
       "      <td>768.000000</td>\n",
       "      <td>768.000000</td>\n",
       "      <td>768.000000</td>\n",
       "      <td>768.000000</td>\n",
       "    </tr>\n",
       "    <tr>\n",
       "      <th>mean</th>\n",
       "      <td>3.845052</td>\n",
       "      <td>120.894531</td>\n",
       "      <td>69.105469</td>\n",
       "      <td>20.536458</td>\n",
       "      <td>79.799479</td>\n",
       "      <td>31.992578</td>\n",
       "      <td>0.471876</td>\n",
       "      <td>33.240885</td>\n",
       "      <td>0.348958</td>\n",
       "    </tr>\n",
       "    <tr>\n",
       "      <th>std</th>\n",
       "      <td>3.369578</td>\n",
       "      <td>31.972618</td>\n",
       "      <td>19.355807</td>\n",
       "      <td>15.952218</td>\n",
       "      <td>115.244002</td>\n",
       "      <td>7.884160</td>\n",
       "      <td>0.331329</td>\n",
       "      <td>11.760232</td>\n",
       "      <td>0.476951</td>\n",
       "    </tr>\n",
       "    <tr>\n",
       "      <th>min</th>\n",
       "      <td>0.000000</td>\n",
       "      <td>0.000000</td>\n",
       "      <td>0.000000</td>\n",
       "      <td>0.000000</td>\n",
       "      <td>0.000000</td>\n",
       "      <td>0.000000</td>\n",
       "      <td>0.078000</td>\n",
       "      <td>21.000000</td>\n",
       "      <td>0.000000</td>\n",
       "    </tr>\n",
       "    <tr>\n",
       "      <th>25%</th>\n",
       "      <td>1.000000</td>\n",
       "      <td>99.000000</td>\n",
       "      <td>62.000000</td>\n",
       "      <td>0.000000</td>\n",
       "      <td>0.000000</td>\n",
       "      <td>27.300000</td>\n",
       "      <td>0.243750</td>\n",
       "      <td>24.000000</td>\n",
       "      <td>0.000000</td>\n",
       "    </tr>\n",
       "    <tr>\n",
       "      <th>50%</th>\n",
       "      <td>3.000000</td>\n",
       "      <td>117.000000</td>\n",
       "      <td>72.000000</td>\n",
       "      <td>23.000000</td>\n",
       "      <td>30.500000</td>\n",
       "      <td>32.000000</td>\n",
       "      <td>0.372500</td>\n",
       "      <td>29.000000</td>\n",
       "      <td>0.000000</td>\n",
       "    </tr>\n",
       "    <tr>\n",
       "      <th>75%</th>\n",
       "      <td>6.000000</td>\n",
       "      <td>140.250000</td>\n",
       "      <td>80.000000</td>\n",
       "      <td>32.000000</td>\n",
       "      <td>127.250000</td>\n",
       "      <td>36.600000</td>\n",
       "      <td>0.626250</td>\n",
       "      <td>41.000000</td>\n",
       "      <td>1.000000</td>\n",
       "    </tr>\n",
       "    <tr>\n",
       "      <th>max</th>\n",
       "      <td>17.000000</td>\n",
       "      <td>199.000000</td>\n",
       "      <td>122.000000</td>\n",
       "      <td>99.000000</td>\n",
       "      <td>846.000000</td>\n",
       "      <td>67.100000</td>\n",
       "      <td>2.420000</td>\n",
       "      <td>81.000000</td>\n",
       "      <td>1.000000</td>\n",
       "    </tr>\n",
       "  </tbody>\n",
       "</table>\n",
       "</div>"
      ],
      "text/plain": [
       "       #_pregnants      plasma     b_press     triceps     insulin  \\\n",
       "count   768.000000  768.000000  768.000000  768.000000  768.000000   \n",
       "mean      3.845052  120.894531   69.105469   20.536458   79.799479   \n",
       "std       3.369578   31.972618   19.355807   15.952218  115.244002   \n",
       "min       0.000000    0.000000    0.000000    0.000000    0.000000   \n",
       "25%       1.000000   99.000000   62.000000    0.000000    0.000000   \n",
       "50%       3.000000  117.000000   72.000000   23.000000   30.500000   \n",
       "75%       6.000000  140.250000   80.000000   32.000000  127.250000   \n",
       "max      17.000000  199.000000  122.000000   99.000000  846.000000   \n",
       "\n",
       "              bmi  diab-ped-func         age   class_var  \n",
       "count  768.000000     768.000000  768.000000  768.000000  \n",
       "mean    31.992578       0.471876   33.240885    0.348958  \n",
       "std      7.884160       0.331329   11.760232    0.476951  \n",
       "min      0.000000       0.078000   21.000000    0.000000  \n",
       "25%     27.300000       0.243750   24.000000    0.000000  \n",
       "50%     32.000000       0.372500   29.000000    0.000000  \n",
       "75%     36.600000       0.626250   41.000000    1.000000  \n",
       "max     67.100000       2.420000   81.000000    1.000000  "
      ]
     },
     "execution_count": 4,
     "metadata": {},
     "output_type": "execute_result"
    }
   ],
   "source": [
    "subjects.describe()"
   ]
  },
  {
   "cell_type": "code",
   "execution_count": 5,
   "metadata": {
    "collapsed": false
   },
   "outputs": [
    {
     "data": {
      "text/plain": [
       "#_pregnants      500\n",
       "plasma           500\n",
       "b_press          500\n",
       "triceps          500\n",
       "insulin          500\n",
       "bmi              500\n",
       "diab-ped-func    500\n",
       "age              500\n",
       "class_var        500\n",
       "dtype: int64"
      ]
     },
     "execution_count": 5,
     "metadata": {},
     "output_type": "execute_result"
    }
   ],
   "source": [
    "subjects[subjects.class_var==1].count()\n",
    "subjects[subjects.class_var==0].count()"
   ]
  },
  {
   "cell_type": "code",
   "execution_count": 6,
   "metadata": {
    "collapsed": false
   },
   "outputs": [
    {
     "name": "stdout",
     "output_type": "stream",
     "text": [
      "<class 'pandas.core.frame.DataFrame'>\n",
      "Int64Index: 768 entries, 0 to 767\n",
      "Data columns (total 9 columns):\n",
      "#_pregnants      768 non-null int64\n",
      "plasma           768 non-null int64\n",
      "b_press          768 non-null int64\n",
      "triceps          768 non-null int64\n",
      "insulin          768 non-null int64\n",
      "bmi              768 non-null float64\n",
      "diab-ped-func    768 non-null float64\n",
      "age              768 non-null int64\n",
      "class_var        768 non-null int64\n",
      "dtypes: float64(2), int64(7)\n",
      "memory usage: 60.0 KB\n"
     ]
    }
   ],
   "source": [
    "subjects.info()"
   ]
  },
  {
   "cell_type": "raw",
   "metadata": {},
   "source": [
    "### There seem to be no non-null values based on the above. "
   ]
  },
  {
   "cell_type": "code",
   "execution_count": 7,
   "metadata": {
    "collapsed": false
   },
   "outputs": [
    {
     "data": {
      "text/plain": [
       "<matplotlib.axes._subplots.AxesSubplot at 0x1093ea3d0>"
      ]
     },
     "execution_count": 7,
     "metadata": {},
     "output_type": "execute_result"
    },
    {
     "data": {
      "image/png": "[encoded data removed]",
      "text/plain": [
       "<matplotlib.figure.Figure at 0x109330290>"
      ]
     },
     "metadata": {},
     "output_type": "display_data"
    }
   ],
   "source": [
    "#subjects.plot(kind=\"scatter\",x='plasma',y='class_var' ,c='r', title=\"Plasma Test vs. Diabetes\") \n",
    "subjects.plot(kind=\"scatter\",x=1,y=8 ,c='r', title=\"Plasma Test vs. Diabetes\") \n",
    "\n",
    "# for some reason here I cannot see that the plasma values would be any clear indicator of diabetes or not. \n",
    "# possibly I am misunderstanding this piece of information\n"
   ]
  },
  {
   "cell_type": "code",
   "execution_count": 8,
   "metadata": {
    "collapsed": false
   },
   "outputs": [
    {
     "data": {
      "text/plain": [
       "Index([u'#_pregnants', u'plasma', u'b_press', u'triceps', u'insulin', u'bmi',\n",
       "       u'diab-ped-func', u'age', u'class_var'],\n",
       "      dtype='object')"
      ]
     },
     "execution_count": 8,
     "metadata": {},
     "output_type": "execute_result"
    }
   ],
   "source": [
    "subjects.columns"
   ]
  },
  {
   "cell_type": "code",
   "execution_count": 9,
   "metadata": {
    "collapsed": false
   },
   "outputs": [],
   "source": [
    "from numpy import genfromtxt\n",
    "my_data = genfromtxt('pima-indians-diabetes.data', delimiter=',')"
   ]
  },
  {
   "cell_type": "code",
   "execution_count": 10,
   "metadata": {
    "collapsed": false
   },
   "outputs": [],
   "source": [
    "X = my_data[:, 0:8]\n",
    "y = my_data[:,8]\n"
   ]
  },
  {
   "cell_type": "code",
   "execution_count": 11,
   "metadata": {
    "collapsed": false
   },
   "outputs": [
    {
     "name": "stdout",
     "output_type": "stream",
     "text": [
      "153\n",
      "615\n",
      "768\n"
     ]
    }
   ],
   "source": [
    "a=  len(X)\n",
    "\n",
    "ind = range(a)\n",
    "\n",
    "np.random.shuffle(ind) #Here I am randomly shuffling the index\n",
    "train_ind = ind[a/5:] #Splitting off 4/5 of the data for training\n",
    "test_ind = ind[:a/5] #Splitting off 1/5 of the data for testing\n",
    "\n",
    "print len(test_ind)\n",
    "print len(train_ind)\n",
    "print len(test_ind) + len(train_ind)\n"
   ]
  },
  {
   "cell_type": "code",
   "execution_count": 12,
   "metadata": {
    "collapsed": false
   },
   "outputs": [
    {
     "name": "stdout",
     "output_type": "stream",
     "text": [
      "X_train rows: 615\n",
      "y_train_rows: 615\n",
      "X_test rows: 153\n",
      "y_test rows: 153\n"
     ]
    }
   ],
   "source": [
    "# Here I am recreating two datasets using the shuffled indexes\n",
    "\n",
    "X_train = list() #For training list of data\n",
    "y_train = list() #For training list of targets\n",
    "\n",
    "X_test = list() #For test list of data\n",
    "y_test = list() #For test list of targets\n",
    "\n",
    "for ind in train_ind:\n",
    "    X_train.append(X[ind])\n",
    "    y_train.append(y[ind])   # There must be a better way to get this data in\n",
    "    \n",
    "for ind in test_ind: \n",
    "    X_test.append(X[ind])\n",
    "    y_test.append(y[ind])\n",
    "    \n",
    "\n",
    "print \"X_train rows: \" + str(len(X_train))\n",
    "print \"y_train_rows: \" + str(len(y_train))\n",
    "print \"X_test rows: \" + str(len(X_test))\n",
    "print \"y_test rows: \" + str(len(y_test))"
   ]
  },
  {
   "cell_type": "code",
   "execution_count": 13,
   "metadata": {
    "collapsed": false
   },
   "outputs": [],
   "source": [
    "#X_train, X_test, y_train, y_test = train_test_split(X, y, test_size=153)\n",
    "# In the above example the test size is 0. Instead, so there I would probably want to put 153"
   ]
  },
  {
   "cell_type": "code",
   "execution_count": 14,
   "metadata": {
    "collapsed": false
   },
   "outputs": [],
   "source": [
    "#X_train.shape"
   ]
  },
  {
   "cell_type": "code",
   "execution_count": 15,
   "metadata": {
    "collapsed": false
   },
   "outputs": [],
   "source": [
    "from sklearn.neighbors import KNeighborsClassifier"
   ]
  },
  {
   "cell_type": "code",
   "execution_count": 36,
   "metadata": {
    "collapsed": false
   },
   "outputs": [
    {
     "name": "stdout",
     "output_type": "stream",
     "text": [
      "[0.7189542483660131]\n",
      "Score:  0.718954248366\n",
      "[0.7189542483660131, 0.6797385620915033]\n",
      "Score:  0.679738562092\n",
      "[0.7189542483660131, 0.6797385620915033, 0.6405228758169934]\n",
      "Score:  0.640522875817\n",
      "[0.7189542483660131, 0.6797385620915033, 0.6405228758169934, 0.6862745098039216]\n",
      "Score:  0.686274509804\n",
      "[0.7189542483660131, 0.6797385620915033, 0.6405228758169934, 0.6862745098039216, 0.6797385620915033]\n",
      "Score:  0.679738562092\n",
      "[0.7189542483660131, 0.6797385620915033, 0.6405228758169934, 0.6862745098039216, 0.6797385620915033, 0.6797385620915033]\n",
      "Score:  0.679738562092\n",
      "[0.7189542483660131, 0.6797385620915033, 0.6405228758169934, 0.6862745098039216, 0.6797385620915033, 0.6797385620915033, 0.6928104575163399]\n",
      "Score:  0.692810457516\n",
      "[0.7189542483660131, 0.6797385620915033, 0.6405228758169934, 0.6862745098039216, 0.6797385620915033, 0.6797385620915033, 0.6928104575163399, 0.7320261437908496]\n",
      "Score:  0.732026143791\n",
      "[0.7189542483660131, 0.6797385620915033, 0.6405228758169934, 0.6862745098039216, 0.6797385620915033, 0.6797385620915033, 0.6928104575163399, 0.7320261437908496, 0.7581699346405228]\n",
      "Score:  0.758169934641\n",
      "[0.7189542483660131, 0.6797385620915033, 0.6405228758169934, 0.6862745098039216, 0.6797385620915033, 0.6797385620915033, 0.6928104575163399, 0.7320261437908496, 0.7581699346405228, 0.7647058823529411]\n",
      "Score:  0.764705882353\n",
      "[0.7189542483660131, 0.6797385620915033, 0.6405228758169934, 0.6862745098039216, 0.6797385620915033, 0.6797385620915033, 0.6928104575163399, 0.7320261437908496, 0.7581699346405228, 0.7647058823529411, 0.7647058823529411]\n",
      "Score:  0.764705882353\n",
      "[0.7189542483660131, 0.6797385620915033, 0.6405228758169934, 0.6862745098039216, 0.6797385620915033, 0.6797385620915033, 0.6928104575163399, 0.7320261437908496, 0.7581699346405228, 0.7647058823529411, 0.7647058823529411, 0.7712418300653595]\n",
      "Score:  0.771241830065\n",
      "[0.7189542483660131, 0.6797385620915033, 0.6405228758169934, 0.6862745098039216, 0.6797385620915033, 0.6797385620915033, 0.6928104575163399, 0.7320261437908496, 0.7581699346405228, 0.7647058823529411, 0.7647058823529411, 0.7712418300653595, 0.7777777777777778]\n",
      "Score:  0.777777777778\n",
      "[0.7189542483660131, 0.6797385620915033, 0.6405228758169934, 0.6862745098039216, 0.6797385620915033, 0.6797385620915033, 0.6928104575163399, 0.7320261437908496, 0.7581699346405228, 0.7647058823529411, 0.7647058823529411, 0.7712418300653595, 0.7777777777777778, 0.7712418300653595]\n",
      "Score:  0.771241830065\n",
      "[0.7189542483660131, 0.6797385620915033, 0.6405228758169934, 0.6862745098039216, 0.6797385620915033, 0.6797385620915033, 0.6928104575163399, 0.7320261437908496, 0.7581699346405228, 0.7647058823529411, 0.7647058823529411, 0.7712418300653595, 0.7777777777777778, 0.7712418300653595, 0.7908496732026143]\n",
      "Score:  0.790849673203\n",
      "[0.7189542483660131, 0.6797385620915033, 0.6405228758169934, 0.6862745098039216, 0.6797385620915033, 0.6797385620915033, 0.6928104575163399, 0.7320261437908496, 0.7581699346405228, 0.7647058823529411, 0.7647058823529411, 0.7712418300653595, 0.7777777777777778, 0.7712418300653595, 0.7908496732026143, 0.7777777777777778]\n",
      "Score:  0.777777777778\n",
      "[0.7189542483660131, 0.6797385620915033, 0.6405228758169934, 0.6862745098039216, 0.6797385620915033, 0.6797385620915033, 0.6928104575163399, 0.7320261437908496, 0.7581699346405228, 0.7647058823529411, 0.7647058823529411, 0.7712418300653595, 0.7777777777777778, 0.7712418300653595, 0.7908496732026143, 0.7777777777777778, 0.7908496732026143]\n",
      "Score:  0.790849673203\n",
      "[0.7189542483660131, 0.6797385620915033, 0.6405228758169934, 0.6862745098039216, 0.6797385620915033, 0.6797385620915033, 0.6928104575163399, 0.7320261437908496, 0.7581699346405228, 0.7647058823529411, 0.7647058823529411, 0.7712418300653595, 0.7777777777777778, 0.7712418300653595, 0.7908496732026143, 0.7777777777777778, 0.7908496732026143, 0.7908496732026143]\n",
      "Score:  0.790849673203\n",
      "[0.7189542483660131, 0.6797385620915033, 0.6405228758169934, 0.6862745098039216, 0.6797385620915033, 0.6797385620915033, 0.6928104575163399, 0.7320261437908496, 0.7581699346405228, 0.7647058823529411, 0.7647058823529411, 0.7712418300653595, 0.7777777777777778, 0.7712418300653595, 0.7908496732026143, 0.7777777777777778, 0.7908496732026143, 0.7908496732026143, 0.7777777777777778]\n",
      "Score:  0.777777777778\n",
      "[0.7189542483660131, 0.6797385620915033, 0.6405228758169934, 0.6862745098039216, 0.6797385620915033, 0.6797385620915033, 0.6928104575163399, 0.7320261437908496, 0.7581699346405228, 0.7647058823529411, 0.7647058823529411, 0.7712418300653595, 0.7777777777777778, 0.7712418300653595, 0.7908496732026143, 0.7777777777777778, 0.7908496732026143, 0.7908496732026143, 0.7777777777777778, 0.7712418300653595]\n",
      "Score:  0.771241830065\n",
      "[0.7189542483660131, 0.6797385620915033, 0.6405228758169934, 0.6862745098039216, 0.6797385620915033, 0.6797385620915033, 0.6928104575163399, 0.7320261437908496, 0.7581699346405228, 0.7647058823529411, 0.7647058823529411, 0.7712418300653595, 0.7777777777777778, 0.7712418300653595, 0.7908496732026143, 0.7777777777777778, 0.7908496732026143, 0.7908496732026143, 0.7777777777777778, 0.7712418300653595, 0.7647058823529411]\n",
      "Score:  0.764705882353\n",
      "[0.7189542483660131, 0.6797385620915033, 0.6405228758169934, 0.6862745098039216, 0.6797385620915033, 0.6797385620915033, 0.6928104575163399, 0.7320261437908496, 0.7581699346405228, 0.7647058823529411, 0.7647058823529411, 0.7712418300653595, 0.7777777777777778, 0.7712418300653595, 0.7908496732026143, 0.7777777777777778, 0.7908496732026143, 0.7908496732026143, 0.7777777777777778, 0.7712418300653595, 0.7647058823529411, 0.7647058823529411]\n",
      "Score:  0.764705882353\n",
      "[0.7189542483660131, 0.6797385620915033, 0.6405228758169934, 0.6862745098039216, 0.6797385620915033, 0.6797385620915033, 0.6928104575163399, 0.7320261437908496, 0.7581699346405228, 0.7647058823529411, 0.7647058823529411, 0.7712418300653595, 0.7777777777777778, 0.7712418300653595, 0.7908496732026143, 0.7777777777777778, 0.7908496732026143, 0.7908496732026143, 0.7777777777777778, 0.7712418300653595, 0.7647058823529411, 0.7647058823529411, 0.7843137254901961]\n",
      "Score:  0.78431372549\n",
      "[0.7189542483660131, 0.6797385620915033, 0.6405228758169934, 0.6862745098039216, 0.6797385620915033, 0.6797385620915033, 0.6928104575163399, 0.7320261437908496, 0.7581699346405228, 0.7647058823529411, 0.7647058823529411, 0.7712418300653595, 0.7777777777777778, 0.7712418300653595, 0.7908496732026143, 0.7777777777777778, 0.7908496732026143, 0.7908496732026143, 0.7777777777777778, 0.7712418300653595, 0.7647058823529411, 0.7647058823529411, 0.7843137254901961, 0.7777777777777778]\n",
      "Score:  0.777777777778\n",
      "[0.7189542483660131, 0.6797385620915033, 0.6405228758169934, 0.6862745098039216, 0.6797385620915033, 0.6797385620915033, 0.6928104575163399, 0.7320261437908496, 0.7581699346405228, 0.7647058823529411, 0.7647058823529411, 0.7712418300653595, 0.7777777777777778, 0.7712418300653595, 0.7908496732026143, 0.7777777777777778, 0.7908496732026143, 0.7908496732026143, 0.7777777777777778, 0.7712418300653595, 0.7647058823529411, 0.7647058823529411, 0.7843137254901961, 0.7777777777777778, 0.7908496732026143]\n",
      "Score:  0.790849673203\n",
      "[0.7189542483660131, 0.6797385620915033, 0.6405228758169934, 0.6862745098039216, 0.6797385620915033, 0.6797385620915033, 0.6928104575163399, 0.7320261437908496, 0.7581699346405228, 0.7647058823529411, 0.7647058823529411, 0.7712418300653595, 0.7777777777777778, 0.7712418300653595, 0.7908496732026143, 0.7777777777777778, 0.7908496732026143, 0.7908496732026143, 0.7777777777777778, 0.7712418300653595, 0.7647058823529411, 0.7647058823529411, 0.7843137254901961, 0.7777777777777778, 0.7908496732026143, 0.7777777777777778]\n",
      "Score:  0.777777777778\n",
      "[0.7189542483660131, 0.6797385620915033, 0.6405228758169934, 0.6862745098039216, 0.6797385620915033, 0.6797385620915033, 0.6928104575163399, 0.7320261437908496, 0.7581699346405228, 0.7647058823529411, 0.7647058823529411, 0.7712418300653595, 0.7777777777777778, 0.7712418300653595, 0.7908496732026143, 0.7777777777777778, 0.7908496732026143, 0.7908496732026143, 0.7777777777777778, 0.7712418300653595, 0.7647058823529411, 0.7647058823529411, 0.7843137254901961, 0.7777777777777778, 0.7908496732026143, 0.7777777777777778, 0.7712418300653595]\n",
      "Score:  0.771241830065\n",
      "[0.7189542483660131, 0.6797385620915033, 0.6405228758169934, 0.6862745098039216, 0.6797385620915033, 0.6797385620915033, 0.6928104575163399, 0.7320261437908496, 0.7581699346405228, 0.7647058823529411, 0.7647058823529411, 0.7712418300653595, 0.7777777777777778, 0.7712418300653595, 0.7908496732026143, 0.7777777777777778, 0.7908496732026143, 0.7908496732026143, 0.7777777777777778, 0.7712418300653595, 0.7647058823529411, 0.7647058823529411, 0.7843137254901961, 0.7777777777777778, 0.7908496732026143, 0.7777777777777778, 0.7712418300653595, 0.7581699346405228]\n",
      "Score:  0.758169934641\n",
      "[0.7189542483660131, 0.6797385620915033, 0.6405228758169934, 0.6862745098039216, 0.6797385620915033, 0.6797385620915033, 0.6928104575163399, 0.7320261437908496, 0.7581699346405228, 0.7647058823529411, 0.7647058823529411, 0.7712418300653595, 0.7777777777777778, 0.7712418300653595, 0.7908496732026143, 0.7777777777777778, 0.7908496732026143, 0.7908496732026143, 0.7777777777777778, 0.7712418300653595, 0.7647058823529411, 0.7647058823529411, 0.7843137254901961, 0.7777777777777778, 0.7908496732026143, 0.7777777777777778, 0.7712418300653595, 0.7581699346405228, 0.7581699346405228]\n",
      "Score:  0.758169934641\n",
      "[0.7189542483660131, 0.6797385620915033, 0.6405228758169934, 0.6862745098039216, 0.6797385620915033, 0.6797385620915033, 0.6928104575163399, 0.7320261437908496, 0.7581699346405228, 0.7647058823529411, 0.7647058823529411, 0.7712418300653595, 0.7777777777777778, 0.7712418300653595, 0.7908496732026143, 0.7777777777777778, 0.7908496732026143, 0.7908496732026143, 0.7777777777777778, 0.7712418300653595, 0.7647058823529411, 0.7647058823529411, 0.7843137254901961, 0.7777777777777778, 0.7908496732026143, 0.7777777777777778, 0.7712418300653595, 0.7581699346405228, 0.7581699346405228, 0.7516339869281046]\n",
      "Score:  0.751633986928\n",
      "[0.7189542483660131, 0.6797385620915033, 0.6405228758169934, 0.6862745098039216, 0.6797385620915033, 0.6797385620915033, 0.6928104575163399, 0.7320261437908496, 0.7581699346405228, 0.7647058823529411, 0.7647058823529411, 0.7712418300653595, 0.7777777777777778, 0.7712418300653595, 0.7908496732026143, 0.7777777777777778, 0.7908496732026143, 0.7908496732026143, 0.7777777777777778, 0.7712418300653595, 0.7647058823529411, 0.7647058823529411, 0.7843137254901961, 0.7777777777777778, 0.7908496732026143, 0.7777777777777778, 0.7712418300653595, 0.7581699346405228, 0.7581699346405228, 0.7516339869281046, 0.7777777777777778]\n",
      "Score:  0.777777777778\n",
      "[0.7189542483660131, 0.6797385620915033, 0.6405228758169934, 0.6862745098039216, 0.6797385620915033, 0.6797385620915033, 0.6928104575163399, 0.7320261437908496, 0.7581699346405228, 0.7647058823529411, 0.7647058823529411, 0.7712418300653595, 0.7777777777777778, 0.7712418300653595, 0.7908496732026143, 0.7777777777777778, 0.7908496732026143, 0.7908496732026143, 0.7777777777777778, 0.7712418300653595, 0.7647058823529411, 0.7647058823529411, 0.7843137254901961, 0.7777777777777778, 0.7908496732026143, 0.7777777777777778, 0.7712418300653595, 0.7581699346405228, 0.7581699346405228, 0.7516339869281046, 0.7777777777777778, 0.7581699346405228]\n",
      "Score:  0.758169934641\n",
      "[0.7189542483660131, 0.6797385620915033, 0.6405228758169934, 0.6862745098039216, 0.6797385620915033, 0.6797385620915033, 0.6928104575163399, 0.7320261437908496, 0.7581699346405228, 0.7647058823529411, 0.7647058823529411, 0.7712418300653595, 0.7777777777777778, 0.7712418300653595, 0.7908496732026143, 0.7777777777777778, 0.7908496732026143, 0.7908496732026143, 0.7777777777777778, 0.7712418300653595, 0.7647058823529411, 0.7647058823529411, 0.7843137254901961, 0.7777777777777778, 0.7908496732026143, 0.7777777777777778, 0.7712418300653595, 0.7581699346405228, 0.7581699346405228, 0.7516339869281046, 0.7777777777777778, 0.7581699346405228, 0.738562091503268]\n",
      "Score:  0.738562091503\n",
      "[0.7189542483660131, 0.6797385620915033, 0.6405228758169934, 0.6862745098039216, 0.6797385620915033, 0.6797385620915033, 0.6928104575163399, 0.7320261437908496, 0.7581699346405228, 0.7647058823529411, 0.7647058823529411, 0.7712418300653595, 0.7777777777777778, 0.7712418300653595, 0.7908496732026143, 0.7777777777777778, 0.7908496732026143, 0.7908496732026143, 0.7777777777777778, 0.7712418300653595, 0.7647058823529411, 0.7647058823529411, 0.7843137254901961, 0.7777777777777778, 0.7908496732026143, 0.7777777777777778, 0.7712418300653595, 0.7581699346405228, 0.7581699346405228, 0.7516339869281046, 0.7777777777777778, 0.7581699346405228, 0.738562091503268, 0.7450980392156863]\n",
      "Score:  0.745098039216\n",
      "[0.7189542483660131, 0.6797385620915033, 0.6405228758169934, 0.6862745098039216, 0.6797385620915033, 0.6797385620915033, 0.6928104575163399, 0.7320261437908496, 0.7581699346405228, 0.7647058823529411, 0.7647058823529411, 0.7712418300653595, 0.7777777777777778, 0.7712418300653595, 0.7908496732026143, 0.7777777777777778, 0.7908496732026143, 0.7908496732026143, 0.7777777777777778, 0.7712418300653595, 0.7647058823529411, 0.7647058823529411, 0.7843137254901961, 0.7777777777777778, 0.7908496732026143, 0.7777777777777778, 0.7712418300653595, 0.7581699346405228, 0.7581699346405228, 0.7516339869281046, 0.7777777777777778, 0.7581699346405228, 0.738562091503268, 0.7450980392156863, 0.7254901960784313]\n",
      "Score:  0.725490196078\n",
      "[0.7189542483660131, 0.6797385620915033, 0.6405228758169934, 0.6862745098039216, 0.6797385620915033, 0.6797385620915033, 0.6928104575163399, 0.7320261437908496, 0.7581699346405228, 0.7647058823529411, 0.7647058823529411, 0.7712418300653595, 0.7777777777777778, 0.7712418300653595, 0.7908496732026143, 0.7777777777777778, 0.7908496732026143, 0.7908496732026143, 0.7777777777777778, 0.7712418300653595, 0.7647058823529411, 0.7647058823529411, 0.7843137254901961, 0.7777777777777778, 0.7908496732026143, 0.7777777777777778, 0.7712418300653595, 0.7581699346405228, 0.7581699346405228, 0.7516339869281046, 0.7777777777777778, 0.7581699346405228, 0.738562091503268, 0.7450980392156863, 0.7254901960784313, 0.7254901960784313]\n",
      "Score:  0.725490196078\n",
      "[0.7189542483660131, 0.6797385620915033, 0.6405228758169934, 0.6862745098039216, 0.6797385620915033, 0.6797385620915033, 0.6928104575163399, 0.7320261437908496, 0.7581699346405228, 0.7647058823529411, 0.7647058823529411, 0.7712418300653595, 0.7777777777777778, 0.7712418300653595, 0.7908496732026143, 0.7777777777777778, 0.7908496732026143, 0.7908496732026143, 0.7777777777777778, 0.7712418300653595, 0.7647058823529411, 0.7647058823529411, 0.7843137254901961, 0.7777777777777778, 0.7908496732026143, 0.7777777777777778, 0.7712418300653595, 0.7581699346405228, 0.7581699346405228, 0.7516339869281046, 0.7777777777777778, 0.7581699346405228, 0.738562091503268, 0.7450980392156863, 0.7254901960784313, 0.7254901960784313, 0.7254901960784313]\n",
      "Score:  0.725490196078\n",
      "[0.7189542483660131, 0.6797385620915033, 0.6405228758169934, 0.6862745098039216, 0.6797385620915033, 0.6797385620915033, 0.6928104575163399, 0.7320261437908496, 0.7581699346405228, 0.7647058823529411, 0.7647058823529411, 0.7712418300653595, 0.7777777777777778, 0.7712418300653595, 0.7908496732026143, 0.7777777777777778, 0.7908496732026143, 0.7908496732026143, 0.7777777777777778, 0.7712418300653595, 0.7647058823529411, 0.7647058823529411, 0.7843137254901961, 0.7777777777777778, 0.7908496732026143, 0.7777777777777778, 0.7712418300653595, 0.7581699346405228, 0.7581699346405228, 0.7516339869281046, 0.7777777777777778, 0.7581699346405228, 0.738562091503268, 0.7450980392156863, 0.7254901960784313, 0.7254901960784313, 0.7254901960784313, 0.7254901960784313]\n",
      "Score:  0.725490196078\n",
      "[0.7189542483660131, 0.6797385620915033, 0.6405228758169934, 0.6862745098039216, 0.6797385620915033, 0.6797385620915033, 0.6928104575163399, 0.7320261437908496, 0.7581699346405228, 0.7647058823529411, 0.7647058823529411, 0.7712418300653595, 0.7777777777777778, 0.7712418300653595, 0.7908496732026143, 0.7777777777777778, 0.7908496732026143, 0.7908496732026143, 0.7777777777777778, 0.7712418300653595, 0.7647058823529411, 0.7647058823529411, 0.7843137254901961, 0.7777777777777778, 0.7908496732026143, 0.7777777777777778, 0.7712418300653595, 0.7581699346405228, 0.7581699346405228, 0.7516339869281046, 0.7777777777777778, 0.7581699346405228, 0.738562091503268, 0.7450980392156863, 0.7254901960784313, 0.7254901960784313, 0.7254901960784313, 0.7254901960784313, 0.7254901960784313]\n",
      "Score:  0.725490196078\n",
      "[0.7189542483660131, 0.6797385620915033, 0.6405228758169934, 0.6862745098039216, 0.6797385620915033, 0.6797385620915033, 0.6928104575163399, 0.7320261437908496, 0.7581699346405228, 0.7647058823529411, 0.7647058823529411, 0.7712418300653595, 0.7777777777777778, 0.7712418300653595, 0.7908496732026143, 0.7777777777777778, 0.7908496732026143, 0.7908496732026143, 0.7777777777777778, 0.7712418300653595, 0.7647058823529411, 0.7647058823529411, 0.7843137254901961, 0.7777777777777778, 0.7908496732026143, 0.7777777777777778, 0.7712418300653595, 0.7581699346405228, 0.7581699346405228, 0.7516339869281046, 0.7777777777777778, 0.7581699346405228, 0.738562091503268, 0.7450980392156863, 0.7254901960784313, 0.7254901960784313, 0.7254901960784313, 0.7254901960784313, 0.7254901960784313, 0.738562091503268]\n",
      "Score:  0.738562091503\n",
      "[0.7189542483660131, 0.6797385620915033, 0.6405228758169934, 0.6862745098039216, 0.6797385620915033, 0.6797385620915033, 0.6928104575163399, 0.7320261437908496, 0.7581699346405228, 0.7647058823529411, 0.7647058823529411, 0.7712418300653595, 0.7777777777777778, 0.7712418300653595, 0.7908496732026143, 0.7777777777777778, 0.7908496732026143, 0.7908496732026143, 0.7777777777777778, 0.7712418300653595, 0.7647058823529411, 0.7647058823529411, 0.7843137254901961, 0.7777777777777778, 0.7908496732026143, 0.7777777777777778, 0.7712418300653595, 0.7581699346405228, 0.7581699346405228, 0.7516339869281046, 0.7777777777777778, 0.7581699346405228, 0.738562091503268, 0.7450980392156863, 0.7254901960784313, 0.7254901960784313, 0.7254901960784313, 0.7254901960784313, 0.7254901960784313, 0.738562091503268, 0.7647058823529411]\n",
      "Score:  0.764705882353\n",
      "[0.7189542483660131, 0.6797385620915033, 0.6405228758169934, 0.6862745098039216, 0.6797385620915033, 0.6797385620915033, 0.6928104575163399, 0.7320261437908496, 0.7581699346405228, 0.7647058823529411, 0.7647058823529411, 0.7712418300653595, 0.7777777777777778, 0.7712418300653595, 0.7908496732026143, 0.7777777777777778, 0.7908496732026143, 0.7908496732026143, 0.7777777777777778, 0.7712418300653595, 0.7647058823529411, 0.7647058823529411, 0.7843137254901961, 0.7777777777777778, 0.7908496732026143, 0.7777777777777778, 0.7712418300653595, 0.7581699346405228, 0.7581699346405228, 0.7516339869281046, 0.7777777777777778, 0.7581699346405228, 0.738562091503268, 0.7450980392156863, 0.7254901960784313, 0.7254901960784313, 0.7254901960784313, 0.7254901960784313, 0.7254901960784313, 0.738562091503268, 0.7647058823529411, 0.7647058823529411]\n",
      "Score:  0.764705882353\n",
      "[0.7189542483660131, 0.6797385620915033, 0.6405228758169934, 0.6862745098039216, 0.6797385620915033, 0.6797385620915033, 0.6928104575163399, 0.7320261437908496, 0.7581699346405228, 0.7647058823529411, 0.7647058823529411, 0.7712418300653595, 0.7777777777777778, 0.7712418300653595, 0.7908496732026143, 0.7777777777777778, 0.7908496732026143, 0.7908496732026143, 0.7777777777777778, 0.7712418300653595, 0.7647058823529411, 0.7647058823529411, 0.7843137254901961, 0.7777777777777778, 0.7908496732026143, 0.7777777777777778, 0.7712418300653595, 0.7581699346405228, 0.7581699346405228, 0.7516339869281046, 0.7777777777777778, 0.7581699346405228, 0.738562091503268, 0.7450980392156863, 0.7254901960784313, 0.7254901960784313, 0.7254901960784313, 0.7254901960784313, 0.7254901960784313, 0.738562091503268, 0.7647058823529411, 0.7647058823529411, 0.7647058823529411]\n",
      "Score:  0.764705882353\n",
      "[0.7189542483660131, 0.6797385620915033, 0.6405228758169934, 0.6862745098039216, 0.6797385620915033, 0.6797385620915033, 0.6928104575163399, 0.7320261437908496, 0.7581699346405228, 0.7647058823529411, 0.7647058823529411, 0.7712418300653595, 0.7777777777777778, 0.7712418300653595, 0.7908496732026143, 0.7777777777777778, 0.7908496732026143, 0.7908496732026143, 0.7777777777777778, 0.7712418300653595, 0.7647058823529411, 0.7647058823529411, 0.7843137254901961, 0.7777777777777778, 0.7908496732026143, 0.7777777777777778, 0.7712418300653595, 0.7581699346405228, 0.7581699346405228, 0.7516339869281046, 0.7777777777777778, 0.7581699346405228, 0.738562091503268, 0.7450980392156863, 0.7254901960784313, 0.7254901960784313, 0.7254901960784313, 0.7254901960784313, 0.7254901960784313, 0.738562091503268, 0.7647058823529411, 0.7647058823529411, 0.7647058823529411, 0.7450980392156863]\n",
      "Score:  0.745098039216\n",
      "[0.7189542483660131, 0.6797385620915033, 0.6405228758169934, 0.6862745098039216, 0.6797385620915033, 0.6797385620915033, 0.6928104575163399, 0.7320261437908496, 0.7581699346405228, 0.7647058823529411, 0.7647058823529411, 0.7712418300653595, 0.7777777777777778, 0.7712418300653595, 0.7908496732026143, 0.7777777777777778, 0.7908496732026143, 0.7908496732026143, 0.7777777777777778, 0.7712418300653595, 0.7647058823529411, 0.7647058823529411, 0.7843137254901961, 0.7777777777777778, 0.7908496732026143, 0.7777777777777778, 0.7712418300653595, 0.7581699346405228, 0.7581699346405228, 0.7516339869281046, 0.7777777777777778, 0.7581699346405228, 0.738562091503268, 0.7450980392156863, 0.7254901960784313, 0.7254901960784313, 0.7254901960784313, 0.7254901960784313, 0.7254901960784313, 0.738562091503268, 0.7647058823529411, 0.7647058823529411, 0.7647058823529411, 0.7450980392156863, 0.7581699346405228]\n",
      "Score:  0.758169934641\n",
      "[0.7189542483660131, 0.6797385620915033, 0.6405228758169934, 0.6862745098039216, 0.6797385620915033, 0.6797385620915033, 0.6928104575163399, 0.7320261437908496, 0.7581699346405228, 0.7647058823529411, 0.7647058823529411, 0.7712418300653595, 0.7777777777777778, 0.7712418300653595, 0.7908496732026143, 0.7777777777777778, 0.7908496732026143, 0.7908496732026143, 0.7777777777777778, 0.7712418300653595, 0.7647058823529411, 0.7647058823529411, 0.7843137254901961, 0.7777777777777778, 0.7908496732026143, 0.7777777777777778, 0.7712418300653595, 0.7581699346405228, 0.7581699346405228, 0.7516339869281046, 0.7777777777777778, 0.7581699346405228, 0.738562091503268, 0.7450980392156863, 0.7254901960784313, 0.7254901960784313, 0.7254901960784313, 0.7254901960784313, 0.7254901960784313, 0.738562091503268, 0.7647058823529411, 0.7647058823529411, 0.7647058823529411, 0.7450980392156863, 0.7581699346405228, 0.7450980392156863]\n",
      "Score:  0.745098039216\n",
      "[0.7189542483660131, 0.6797385620915033, 0.6405228758169934, 0.6862745098039216, 0.6797385620915033, 0.6797385620915033, 0.6928104575163399, 0.7320261437908496, 0.7581699346405228, 0.7647058823529411, 0.7647058823529411, 0.7712418300653595, 0.7777777777777778, 0.7712418300653595, 0.7908496732026143, 0.7777777777777778, 0.7908496732026143, 0.7908496732026143, 0.7777777777777778, 0.7712418300653595, 0.7647058823529411, 0.7647058823529411, 0.7843137254901961, 0.7777777777777778, 0.7908496732026143, 0.7777777777777778, 0.7712418300653595, 0.7581699346405228, 0.7581699346405228, 0.7516339869281046, 0.7777777777777778, 0.7581699346405228, 0.738562091503268, 0.7450980392156863, 0.7254901960784313, 0.7254901960784313, 0.7254901960784313, 0.7254901960784313, 0.7254901960784313, 0.738562091503268, 0.7647058823529411, 0.7647058823529411, 0.7647058823529411, 0.7450980392156863, 0.7581699346405228, 0.7450980392156863, 0.7647058823529411]\n",
      "Score:  0.764705882353\n",
      "[0.7189542483660131, 0.6797385620915033, 0.6405228758169934, 0.6862745098039216, 0.6797385620915033, 0.6797385620915033, 0.6928104575163399, 0.7320261437908496, 0.7581699346405228, 0.7647058823529411, 0.7647058823529411, 0.7712418300653595, 0.7777777777777778, 0.7712418300653595, 0.7908496732026143, 0.7777777777777778, 0.7908496732026143, 0.7908496732026143, 0.7777777777777778, 0.7712418300653595, 0.7647058823529411, 0.7647058823529411, 0.7843137254901961, 0.7777777777777778, 0.7908496732026143, 0.7777777777777778, 0.7712418300653595, 0.7581699346405228, 0.7581699346405228, 0.7516339869281046, 0.7777777777777778, 0.7581699346405228, 0.738562091503268, 0.7450980392156863, 0.7254901960784313, 0.7254901960784313, 0.7254901960784313, 0.7254901960784313, 0.7254901960784313, 0.738562091503268, 0.7647058823529411, 0.7647058823529411, 0.7647058823529411, 0.7450980392156863, 0.7581699346405228, 0.7450980392156863, 0.7647058823529411, 0.7647058823529411]\n",
      "Score:  0.764705882353\n",
      "[0.7189542483660131, 0.6797385620915033, 0.6405228758169934, 0.6862745098039216, 0.6797385620915033, 0.6797385620915033, 0.6928104575163399, 0.7320261437908496, 0.7581699346405228, 0.7647058823529411, 0.7647058823529411, 0.7712418300653595, 0.7777777777777778, 0.7712418300653595, 0.7908496732026143, 0.7777777777777778, 0.7908496732026143, 0.7908496732026143, 0.7777777777777778, 0.7712418300653595, 0.7647058823529411, 0.7647058823529411, 0.7843137254901961, 0.7777777777777778, 0.7908496732026143, 0.7777777777777778, 0.7712418300653595, 0.7581699346405228, 0.7581699346405228, 0.7516339869281046, 0.7777777777777778, 0.7581699346405228, 0.738562091503268, 0.7450980392156863, 0.7254901960784313, 0.7254901960784313, 0.7254901960784313, 0.7254901960784313, 0.7254901960784313, 0.738562091503268, 0.7647058823529411, 0.7647058823529411, 0.7647058823529411, 0.7450980392156863, 0.7581699346405228, 0.7450980392156863, 0.7647058823529411, 0.7647058823529411, 0.7647058823529411]\n",
      "Score:  0.764705882353\n"
     ]
    }
   ],
   "source": [
    "# Did not do this correctly, and just added this part in before class. Did not read in the homework that 0,50 nearest\n",
    "# neighbors needed to be done. \n",
    "#Also, I did not normalize :-/ \n",
    "\n",
    "score = []\n",
    "\n",
    "sum_score = 0\n",
    "\n",
    "for x in range(1,50):\n",
    "#for x in range(0,50)\n",
    "    myknn = KNeighborsClassifier(x).fit(X_train,y_train) # Here I create a model called myknn\n",
    "    prediction = myknn.predict(X_test) #these are my predicted values for y_test\n",
    "\n",
    "    yay_score = 0 \n",
    "\n",
    "    for a,b in zip(y_test, prediction): \n",
    "        if a == b: \n",
    "            yay_score += 1\n",
    "        else: \n",
    "            pass\n",
    "    score.append(float(yay_score)/len(y_test))\n",
    "    #print score\n",
    "    print \"Score: \", float(yay_score)/len(y_test)\n",
    "    \n",
    "    "
   ]
  },
  {
   "cell_type": "code",
   "execution_count": 38,
   "metadata": {
    "collapsed": false
   },
   "outputs": [
    {
     "data": {
      "image/png": "[encoded data removed]",
      "text/plain": [
       "<matplotlib.figure.Figure at 0x10991cc10>"
      ]
     },
     "metadata": {},
     "output_type": "display_data"
    }
   ],
   "source": [
    "#plotting the scores \n",
    "\n",
    "import matplotlib.pyplot as plt\n",
    "\n",
    "\n",
    "plt.plot(score)\n",
    "plt.show()\n"
   ]
  },
  {
   "cell_type": "code",
   "execution_count": 18,
   "metadata": {
    "collapsed": true
   },
   "outputs": [],
   "source": [
    "myknn = KNeighborsClassifier(2).fit(X_train,y_train) # Here I create a model called myknn"
   ]
  },
  {
   "cell_type": "code",
   "execution_count": 19,
   "metadata": {
    "collapsed": false
   },
   "outputs": [
    {
     "name": "stdout",
     "output_type": "stream",
     "text": [
      "153\n"
     ]
    }
   ],
   "source": [
    "print len(X_test)"
   ]
  },
  {
   "cell_type": "code",
   "execution_count": 20,
   "metadata": {
    "collapsed": false
   },
   "outputs": [
    {
     "data": {
      "text/plain": [
       "array([ 0.,  0.,  0.,  0.,  0.,  0.,  0.,  0.,  0.,  0.,  0.,  0.,  0.,\n",
       "        0.,  1.,  0.,  0.,  0.,  0.,  0.,  0.,  0.,  0.,  1.,  0.,  0.,\n",
       "        0.,  0.,  0.,  0.,  0.,  0.,  0.,  0.,  0.,  0.,  0.,  0.,  0.,\n",
       "        0.,  0.,  0.,  0.,  0.,  0.,  0.,  0.,  0.,  0.,  1.,  0.,  1.,\n",
       "        0.,  0.,  0.,  0.,  1.,  0.,  0.,  0.,  0.,  0.,  0.,  0.,  1.,\n",
       "        0.,  0.,  0.,  0.,  0.,  0.,  1.,  0.,  0.,  1.,  0.,  0.,  0.,\n",
       "        1.,  0.,  0.,  0.,  0.,  1.,  0.,  0.,  0.,  1.,  1.,  0.,  0.,\n",
       "        0.,  0.,  1.,  1.,  1.,  0.,  0.,  1.,  0.,  0.,  0.,  1.,  0.,\n",
       "        0.,  0.,  0.,  0.,  1.,  0.,  0.,  0.,  0.,  0.,  1.,  0.,  0.,\n",
       "        0.,  0.,  1.,  0.,  0.,  0.,  0.,  0.,  0.,  0.,  0.,  0.,  0.,\n",
       "        0.,  0.,  1.,  0.,  0.,  0.,  0.,  0.,  0.,  0.,  0.,  0.,  1.,\n",
       "        0.,  0.,  0.,  0.,  0.,  0.,  0.,  0.,  0.,  1.])"
      ]
     },
     "execution_count": 20,
     "metadata": {},
     "output_type": "execute_result"
    }
   ],
   "source": [
    "prediction = myknn.predict(X_test) #these are my predicted values for y_test\n",
    "prediction"
   ]
  },
  {
   "cell_type": "code",
   "execution_count": 20,
   "metadata": {
    "collapsed": false
   },
   "outputs": [],
   "source": [
    "yay_score = 0 \n",
    "\n",
    "for a,b in zip(y_test, prediction): \n",
    "    if a == b: \n",
    "        yay_score += 1\n",
    "    else: \n",
    "        pass"
   ]
  },
  {
   "cell_type": "code",
   "execution_count": 21,
   "metadata": {
    "collapsed": false
   },
   "outputs": [
    {
     "name": "stdout",
     "output_type": "stream",
     "text": [
      "Number correct:  107\n",
      "Total rows:  153\n",
      "Score:  0.699346405229\n"
     ]
    }
   ],
   "source": [
    "print \"Number correct: \", yay_score\n",
    "print \"Total rows: \", len(y_test)\n",
    "print \"Score: \", float(yay_score)/len(y_test)"
   ]
  },
  {
   "cell_type": "code",
   "execution_count": 22,
   "metadata": {
    "collapsed": false
   },
   "outputs": [],
   "source": [
    "headers=[\n",
    "    '#_pregnants',\n",
    "    'plasma',\n",
    "    'b_press',\n",
    "    'triceps',\n",
    "    'insulin',\n",
    "    'bmi',\n",
    "    'diab-ped-func',\n",
    "    'age',\n",
    "    'class_var'\n",
    "    ]\n",
    "    \n",
    "subjects = pd.read_csv(\"pima-indians-diabetes.data\", names=headers)\n",
    "\n",
    "\n",
    "features= headers[0:8]\n",
    "to_predict = headers[8]\n",
    "\n",
    "data = subjects[features]\n",
    "label = subjects[to_predict] # Why do we call this label? \n",
    "folds=5\n",
    "\n",
    "model = KNeighborsClassifier(10)\n",
    "\n"
   ]
  },
  {
   "cell_type": "code",
   "execution_count": 23,
   "metadata": {
    "collapsed": true
   },
   "outputs": [],
   "source": [
    "def cross_validate_df(data,label,model,k):\n",
    "    train_slices = []\n",
    "    test_slices = []\n",
    "    positions = data.index.values\n",
    "\n",
    "    # Remember this technique? We're going to \n",
    "    # shuffle our data in place using NumPy\n",
    "    np.random.shuffle(positions)\n",
    "\n",
    "    for i in range(k):\n",
    "\n",
    "        # When creating and evaluating a loop, it's important to understand\n",
    "        # the loop at 3 points: \n",
    "        # initial iteration (i = 0)\n",
    "        # steady state (0 < i < end) assuming it's running smoothly\n",
    "        # exit (i = end)\n",
    "\n",
    "        section_start = i*len(data)/k\n",
    "        section_end = (i+1)*len(data)/k\n",
    "        test_slices.append(positions[ section_start:section_end ])\n",
    "\n",
    "        # We now want the rest of the data, slicing up to the start\n",
    "        # and combining that with a slice from the test slice end to\n",
    "        # the end of the dataframe\n",
    "\n",
    "        train_p1 = positions[ :section_start ]\n",
    "        train_p2 = positions[ section_end: ]\n",
    "        train_combo = np.concatenate([train_p1,train_p2])\n",
    "        train_slices.append(train_combo)\n",
    "\n",
    "    scores = 0\n",
    "\n",
    "    for train_sl, test_sl in zip(train_slices,test_slices):\n",
    "\n",
    "        model.fit(data.loc[train_sl],label.loc[train_sl])\n",
    "        k_score = model.score(data.loc[test_sl],label.loc[test_sl])\n",
    "        scores += k_score\n",
    "        print k_score\n",
    "    return scores/k\n",
    "\n",
    "\n",
    "\n",
    "\n",
    "# Use this code for cross validation in the future\n",
    "# It's more efficient\n",
    "\n",
    "def crossValidateScoreDataFrame(data,label,k,model):\n",
    "    positions = data.index.values\n",
    "    np.random.shuffle(positions)\n",
    "    cv_score=0\n",
    "\n",
    "    for i in range(k):\n",
    "        pos_var = len(data)/k\n",
    "        \n",
    "        test_slice = positions[i*pos_var:(i+1)*pos_var]\n",
    "\n",
    "        train_1 = positions[ :i*pos_var]\n",
    "        train_2 = positions[(i+1)*pos_var:]\n",
    "        train_slice = np.concatenate([train_1,train_2])\n",
    "\n",
    "        model.fit(data.loc[train_slice],label.loc[train_slice])\n",
    "        k_score = model.score(data.loc[test_slice],label.loc[test_slice])\n",
    "        cv_score += k_score\n",
    "        print k_score\n",
    "        \n",
    "    return  cv_score/k\n",
    "\n"
   ]
  },
  {
   "cell_type": "code",
   "execution_count": 24,
   "metadata": {
    "collapsed": false
   },
   "outputs": [
    {
     "name": "stdout",
     "output_type": "stream",
     "text": [
      "0.751633986928\n",
      "0.668831168831\n",
      "0.764705882353\n",
      "0.824675324675\n",
      "0.707792207792\n"
     ]
    },
    {
     "data": {
      "text/plain": [
       "0.74352771411594942"
      ]
     },
     "execution_count": 24,
     "metadata": {},
     "output_type": "execute_result"
    }
   ],
   "source": [
    "cross_validate_df(data,label,model,5)"
   ]
  },
  {
   "cell_type": "code",
   "execution_count": 29,
   "metadata": {
    "collapsed": false
   },
   "outputs": [
    {
     "data": {
      "text/plain": [
       "0.73694606571552101"
      ]
     },
     "execution_count": 29,
     "metadata": {},
     "output_type": "execute_result"
    }
   ],
   "source": [
    "# help(cross_val_score) Need to look further. \n",
    "\n",
    "\n",
    "from sklearn.cross_validation import cross_val_score\n",
    "\n",
    "n_samples = len(y)\n",
    "\n",
    "test_scores = cross_val_score(model, X, y)\n",
    "test_scores.mean()\n",
    "\n",
    "#print test_scores\n"
   ]
  },
  {
   "cell_type": "markdown",
   "metadata": {
    "collapsed": false
   },
   "source": [
    "## Naive Bayes"
   ]
  },
  {
   "cell_type": "code",
   "execution_count": 276,
   "metadata": {
    "collapsed": true
   },
   "outputs": [],
   "source": [
    "#Doing the same thing, but using the function\n",
    "X_train, X_test, y_train, y_test = train_test_split(X, y, test_size=153)"
   ]
  },
  {
   "cell_type": "code",
   "execution_count": 279,
   "metadata": {
    "collapsed": false
   },
   "outputs": [
    {
     "name": "stdout",
     "output_type": "stream",
     "text": [
      "(615, 8)\n",
      "[[   2.     106.      64.    ...,   30.5      1.4     34.   ]\n",
      " [   1.     118.      58.    ...,   33.3      0.261   23.   ]\n",
      " [   7.     196.      90.    ...,   39.8      0.451   41.   ]\n",
      " ..., \n",
      " [   7.     133.      88.    ...,   32.4      0.262   37.   ]\n",
      " [   4.     134.      72.    ...,   23.8      0.277   60.   ]\n",
      " [   0.     146.      82.    ...,   40.5      1.781   44.   ]]\n"
     ]
    }
   ],
   "source": [
    "print X_train.shape\n",
    "print X_train"
   ]
  },
  {
   "cell_type": "code",
   "execution_count": 280,
   "metadata": {
    "collapsed": false
   },
   "outputs": [
    {
     "data": {
      "text/plain": [
       "(153, 8)"
      ]
     },
     "execution_count": 280,
     "metadata": {},
     "output_type": "execute_result"
    }
   ],
   "source": [
    "X_test.shape"
   ]
  },
  {
   "cell_type": "code",
   "execution_count": 281,
   "metadata": {
    "collapsed": false
   },
   "outputs": [
    {
     "data": {
      "text/plain": [
       "numpy.ndarray"
      ]
     },
     "execution_count": 281,
     "metadata": {},
     "output_type": "execute_result"
    }
   ],
   "source": [
    "type(X_test)"
   ]
  },
  {
   "cell_type": "code",
   "execution_count": 289,
   "metadata": {
    "collapsed": false
   },
   "outputs": [
    {
     "data": {
      "text/plain": [
       "MultinomialNB(alpha=1.0, class_prior=None, fit_prior=True)"
      ]
     },
     "execution_count": 289,
     "metadata": {},
     "output_type": "execute_result"
    }
   ],
   "source": [
    "from sklearn.naive_bayes import MultinomialNB\n",
    "nb = MultinomialNB()\n",
    "nb.fit(X_train, y_train)"
   ]
  },
  {
   "cell_type": "code",
   "execution_count": 291,
   "metadata": {
    "collapsed": false
   },
   "outputs": [],
   "source": [
    "preds = nb.predict(X_test)"
   ]
  },
  {
   "cell_type": "code",
   "execution_count": 292,
   "metadata": {
    "collapsed": false
   },
   "outputs": [
    {
     "data": {
      "text/plain": [
       "array([ 1.,  0.,  0.,  0.,  0.,  0.,  0.,  0.,  1.,  1.,  0.,  0.,  1.,\n",
       "        1.,  1.,  0.,  1.,  1.,  1.,  0.,  0.,  1.,  0.,  0.,  0.,  1.,\n",
       "        0.,  1.,  0.,  0.,  0.,  1.,  1.,  1.,  0.,  1.,  0.,  0.,  0.,\n",
       "        0.,  0.,  0.,  0.,  0.,  1.,  0.,  0.,  0.,  0.,  0.,  1.,  0.,\n",
       "        1.,  0.,  1.,  0.,  1.,  0.,  0.,  0.,  0.,  0.,  0.,  0.,  1.,\n",
       "        0.,  0.,  1.,  0.,  1.,  0.,  1.,  1.,  1.,  0.,  1.,  0.,  0.,\n",
       "        0.,  1.,  1.,  0.,  1.,  0.,  1.,  0.,  0.,  0.,  1.,  1.,  1.,\n",
       "        1.,  1.,  1.,  0.,  0.,  1.,  0.,  0.,  1.,  0.,  0.,  0.,  0.,\n",
       "        0.,  1.,  1.,  1.,  1.,  1.,  0.,  1.,  1.,  1.,  1.,  0.,  0.,\n",
       "        1.,  1.,  0.,  1.,  0.,  1.,  0.,  0.,  0.,  1.,  1.,  1.,  0.,\n",
       "        1.,  0.,  1.,  1.,  0.,  1.,  1.,  0.,  1.,  0.,  0.,  1.,  0.,\n",
       "        1.,  0.,  1.,  0.,  0.,  1.,  0.,  0.,  0.,  1.])"
      ]
     },
     "execution_count": 292,
     "metadata": {},
     "output_type": "execute_result"
    }
   ],
   "source": [
    "preds"
   ]
  },
  {
   "cell_type": "code",
   "execution_count": 294,
   "metadata": {
    "collapsed": false
   },
   "outputs": [
    {
     "name": "stdout",
     "output_type": "stream",
     "text": [
      "0.562091503268\n",
      "[[57 38]\n",
      " [29 29]]\n"
     ]
    }
   ],
   "source": [
    "from sklearn import metrics\n",
    "print metrics.accuracy_score(y_test, preds)\n",
    "print metrics.confusion_matrix(y_test, preds)"
   ]
  },
  {
   "cell_type": "code",
   "execution_count": null,
   "metadata": {
    "collapsed": true
   },
   "outputs": [],
   "source": []
  }
 ],
 "metadata": {
  "kernelspec": {
   "display_name": "Python 2",
   "language": "python",
   "name": "python2"
  },
  "language_info": {
   "codemirror_mode": {
    "name": "ipython",
    "version": 2
   },
   "file_extension": ".py",
   "mimetype": "text/x-python",
   "name": "python",
   "nbconvert_exporter": "python",
   "pygments_lexer": "ipython2",
   "version": "2.7.10"
  }
 },
 "nbformat": 4,
 "nbformat_minor": 0
}
