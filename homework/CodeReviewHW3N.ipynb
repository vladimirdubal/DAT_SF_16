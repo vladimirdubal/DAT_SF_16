{
 "cells": [
  {
   "cell_type": "code",
   "execution_count": null,
   "metadata": {
    "collapsed": true
   },
   "outputs": [],
   "source": []
  },
  {
   "cell_type": "code",
   "execution_count": 4,
   "metadata": {
    "collapsed": false
   },
   "outputs": [],
   "source": [
    "import pandas as pd\n",
    "import numpy as np\n",
    "\n",
    "df = pd.DataFrame.from_csv(\"pima-indians-diabetes.csv\", header=None, index_col=None)\n",
    "df.head()\n",
    "df.columns = [\"Pregnant\", \"Glucose\",\"Blood_Pressure\", \"Triceps\", \"Insulin\", \"BMI\", \"Pedigree\",\"Age\", \"Class\"]"
   ]
  },
  {
   "cell_type": "code",
   "execution_count": 5,
   "metadata": {
    "collapsed": false
   },
   "outputs": [
    {
     "name": "stdout",
     "output_type": "stream",
     "text": [
      "<class 'pandas.core.frame.DataFrame'>\n",
      "Int64Index: 768 entries, 0 to 767\n",
      "Data columns (total 9 columns):\n",
      "Pregnant          768 non-null int64\n",
      "Glucose           768 non-null int64\n",
      "Blood_Pressure    768 non-null int64\n",
      "Triceps           768 non-null int64\n",
      "Insulin           768 non-null int64\n",
      "BMI               768 non-null float64\n",
      "Pedigree          768 non-null float64\n",
      "Age               768 non-null int64\n",
      "Class             768 non-null int64\n",
      "dtypes: float64(2), int64(7)\n",
      "memory usage: 60.0 KB\n"
     ]
    }
   ],
   "source": [
    "df.head()\n",
    "df.describe()\n",
    "df.info()"
   ]
  },
  {
   "cell_type": "code",
   "execution_count": 7,
   "metadata": {
    "collapsed": false
   },
   "outputs": [
    {
     "name": "stdout",
     "output_type": "stream",
     "text": [
      "     Pregnant  Glucose  Blood_Pressure  Triceps  Insulin  BMI  Pedigree  Age  \\\n",
      "9           8      125              96        0        0    0     0.232   54   \n",
      "49          7      105               0        0        0    0     0.305   24   \n",
      "60          2       84               0        0        0    0     0.304   21   \n",
      "81          2       74               0        0        0    0     0.102   22   \n",
      "145         0      102              75       23        0    0     0.572   21   \n",
      "371         0      118              64       23       89    0     1.731   21   \n",
      "426         0       94               0        0        0    0     0.256   25   \n",
      "494         3       80               0        0        0    0     0.174   22   \n",
      "522         6      114               0        0        0    0     0.189   26   \n",
      "684         5      136              82        0        0    0     0.640   69   \n",
      "706        10      115               0        0        0    0     0.261   30   \n",
      "\n",
      "     Class  \n",
      "9        1  \n",
      "49       0  \n",
      "60       0  \n",
      "81       0  \n",
      "145      0  \n",
      "371      0  \n",
      "426      0  \n",
      "494      0  \n",
      "522      0  \n",
      "684      0  \n",
      "706      1  \n",
      "     Pregnant  Glucose  Blood_Pressure  Triceps  Insulin   BMI  Pedigree  Age  \\\n",
      "75          1        0              48       20        0  24.7     0.140   22   \n",
      "182         1        0              74       20       23  27.7     0.299   21   \n",
      "342         1        0              68       35        0  32.0     0.389   22   \n",
      "349         5        0              80       32        0  41.0     0.346   37   \n",
      "502         6        0              68       41        0  39.0     0.727   41   \n",
      "\n",
      "     Class  \n",
      "75       0  \n",
      "182      0  \n",
      "342      0  \n",
      "349      1  \n",
      "502      1  \n",
      "     Pregnant  Glucose  Blood_Pressure  Triceps  Insulin   BMI  Pedigree  Age  \\\n",
      "7          10      115               0        0        0  35.3     0.134   29   \n",
      "15          7      100               0        0        0  30.0     0.484   32   \n",
      "49          7      105               0        0        0   0.0     0.305   24   \n",
      "60          2       84               0        0        0   0.0     0.304   21   \n",
      "78          0      131               0        0        0  43.2     0.270   26   \n",
      "81          2       74               0        0        0   0.0     0.102   22   \n",
      "172         2       87               0       23        0  28.9     0.773   25   \n",
      "193        11      135               0        0        0  52.3     0.578   40   \n",
      "222         7      119               0        0        0  25.2     0.209   37   \n",
      "261         3      141               0        0        0  30.0     0.761   27   \n",
      "266         0      138               0        0        0  36.3     0.933   25   \n",
      "269         2      146               0        0        0  27.5     0.240   28   \n",
      "300         0      167               0        0        0  32.3     0.839   30   \n",
      "332         1      180               0        0        0  43.3     0.282   41   \n",
      "336         0      117               0        0        0  33.8     0.932   44   \n",
      "347         3      116               0        0        0  23.5     0.187   23   \n",
      "357        13      129               0       30        0  39.9     0.569   44   \n",
      "426         0       94               0        0        0   0.0     0.256   25   \n",
      "430         2       99               0        0        0  22.2     0.108   23   \n",
      "435         0      141               0        0        0  42.4     0.205   29   \n",
      "453         2      119               0        0        0  19.6     0.832   72   \n",
      "468         8      120               0        0        0  30.0     0.183   38   \n",
      "484         0      145               0        0        0  44.2     0.630   31   \n",
      "494         3       80               0        0        0   0.0     0.174   22   \n",
      "522         6      114               0        0        0   0.0     0.189   26   \n",
      "533         6       91               0        0        0  29.8     0.501   31   \n",
      "535         4      132               0        0        0  32.9     0.302   23   \n",
      "589         0       73               0        0        0  21.1     0.342   25   \n",
      "601         6       96               0        0        0  23.7     0.190   28   \n",
      "604         4      183               0        0        0  28.4     0.212   36   \n",
      "619         0      119               0        0        0  32.4     0.141   24   \n",
      "643         4       90               0        0        0  28.0     0.610   31   \n",
      "697         0       99               0        0        0  25.0     0.253   22   \n",
      "703         2      129               0        0        0  38.5     0.304   41   \n",
      "706        10      115               0        0        0   0.0     0.261   30   \n",
      "\n",
      "     Class  \n",
      "7        0  \n",
      "15       1  \n",
      "49       0  \n",
      "60       0  \n",
      "78       1  \n",
      "81       0  \n",
      "172      0  \n",
      "193      1  \n",
      "222      0  \n",
      "261      1  \n",
      "266      1  \n",
      "269      1  \n",
      "300      1  \n",
      "332      1  \n",
      "336      0  \n",
      "347      0  \n",
      "357      1  \n",
      "426      0  \n",
      "430      0  \n",
      "435      1  \n",
      "453      0  \n",
      "468      1  \n",
      "484      1  \n",
      "494      0  \n",
      "522      0  \n",
      "533      0  \n",
      "535      1  \n",
      "589      0  \n",
      "601      0  \n",
      "604      1  \n",
      "619      1  \n",
      "643      0  \n",
      "697      0  \n",
      "703      0  \n",
      "706      1  \n",
      "     Pregnant  Glucose  Blood_Pressure  Triceps  Insulin   BMI  Pedigree  Age  \\\n",
      "2           8      183              64        0        0  23.3     0.672   32   \n",
      "5           5      116              74        0        0  25.6     0.201   30   \n",
      "7          10      115               0        0        0  35.3     0.134   29   \n",
      "9           8      125              96        0        0   0.0     0.232   54   \n",
      "10          4      110              92        0        0  37.6     0.191   30   \n",
      "11         10      168              74        0        0  38.0     0.537   34   \n",
      "12         10      139              80        0        0  27.1     1.441   57   \n",
      "15          7      100               0        0        0  30.0     0.484   32   \n",
      "17          7      107              74        0        0  29.6     0.254   31   \n",
      "21          8       99              84        0        0  35.4     0.388   50   \n",
      "22          7      196              90        0        0  39.8     0.451   41   \n",
      "26          7      147              76        0        0  39.4     0.257   43   \n",
      "29          5      117              92        0        0  34.1     0.337   38   \n",
      "33          6       92              92        0        0  19.9     0.188   28   \n",
      "36         11      138              76        0        0  33.2     0.420   35   \n",
      "41          7      133              84        0        0  40.2     0.696   37   \n",
      "44          7      159              64        0        0  27.4     0.294   40   \n",
      "46          1      146              56        0        0  29.7     0.564   29   \n",
      "49          7      105               0        0        0   0.0     0.305   24   \n",
      "58          0      146              82        0        0  40.5     1.781   44   \n",
      "60          2       84               0        0        0   0.0     0.304   21   \n",
      "61          8      133              72        0        0  32.9     0.270   39   \n",
      "62          5       44              62        0        0  25.0     0.587   36   \n",
      "64          7      114              66        0        0  32.8     0.258   42   \n",
      "67          2      109              92        0        0  42.7     0.845   54   \n",
      "72         13      126              90        0        0  43.4     0.583   42   \n",
      "76          7       62              78        0        0  32.6     0.391   41   \n",
      "78          0      131               0        0        0  43.2     0.270   26   \n",
      "81          2       74               0        0        0   0.0     0.102   22   \n",
      "84          5      137             108        0        0  48.8     0.227   37   \n",
      "..        ...      ...             ...      ...      ...   ...       ...  ...   \n",
      "675         6      195              70        0        0  30.9     0.328   31   \n",
      "676         9      156              86        0        0  24.8     0.230   53   \n",
      "677         0       93              60        0        0  35.3     0.263   25   \n",
      "678         3      121              52        0        0  36.0     0.127   25   \n",
      "683         4      125              80        0        0  32.3     0.536   27   \n",
      "684         5      136              82        0        0   0.0     0.640   69   \n",
      "686         3      130              64        0        0  23.1     0.314   22   \n",
      "690         8      107              80        0        0  24.6     0.856   34   \n",
      "691        13      158             114        0        0  42.3     0.257   44   \n",
      "694         2       90              60        0        0  23.5     0.191   25   \n",
      "697         0       99               0        0        0  25.0     0.253   22   \n",
      "699         4      118              70        0        0  44.5     0.904   26   \n",
      "703         2      129               0        0        0  38.5     0.304   41   \n",
      "706        10      115               0        0        0   0.0     0.261   30   \n",
      "708         9      164              78        0        0  32.8     0.148   45   \n",
      "714         3      102              74        0        0  29.5     0.121   32   \n",
      "724         1      111              94        0        0  32.8     0.265   45   \n",
      "728         2      175              88        0        0  22.9     0.326   22   \n",
      "729         2       92              52        0        0  30.1     0.141   22   \n",
      "731         8      120              86        0        0  28.4     0.259   22   \n",
      "734         2      105              75        0        0  23.3     0.560   53   \n",
      "739         1      102              74        0        0  39.5     0.293   42   \n",
      "743         9      140              94        0        0  32.7     0.734   45   \n",
      "749         6      162              62        0        0  24.3     0.178   50   \n",
      "750         4      136              70        0        0  31.2     1.182   22   \n",
      "757         0      123              72        0        0  36.3     0.258   52   \n",
      "758         1      106              76        0        0  37.5     0.197   26   \n",
      "759         6      190              92        0        0  35.5     0.278   66   \n",
      "762         9       89              62        0        0  22.5     0.142   33   \n",
      "766         1      126              60        0        0  30.1     0.349   47   \n",
      "\n",
      "     Class  \n",
      "2        1  \n",
      "5        0  \n",
      "7        0  \n",
      "9        1  \n",
      "10       0  \n",
      "11       1  \n",
      "12       0  \n",
      "15       1  \n",
      "17       1  \n",
      "21       0  \n",
      "22       1  \n",
      "26       1  \n",
      "29       0  \n",
      "33       0  \n",
      "36       0  \n",
      "41       0  \n",
      "44       0  \n",
      "46       0  \n",
      "49       0  \n",
      "58       0  \n",
      "60       0  \n",
      "61       1  \n",
      "62       0  \n",
      "64       1  \n",
      "67       0  \n",
      "72       1  \n",
      "76       0  \n",
      "78       1  \n",
      "81       0  \n",
      "84       1  \n",
      "..     ...  \n",
      "675      1  \n",
      "676      1  \n",
      "677      0  \n",
      "678      1  \n",
      "683      1  \n",
      "684      0  \n",
      "686      0  \n",
      "690      0  \n",
      "691      1  \n",
      "694      0  \n",
      "697      0  \n",
      "699      0  \n",
      "703      0  \n",
      "706      1  \n",
      "708      1  \n",
      "714      0  \n",
      "724      0  \n",
      "728      0  \n",
      "729      0  \n",
      "731      1  \n",
      "734      0  \n",
      "739      1  \n",
      "743      1  \n",
      "749      1  \n",
      "750      1  \n",
      "757      1  \n",
      "758      0  \n",
      "759      1  \n",
      "762      0  \n",
      "766      1  \n",
      "\n",
      "[227 rows x 9 columns]\n"
     ]
    }
   ],
   "source": [
    "print(df[df.BMI == 0])\n",
    "print(df[df.Glucose == 0])\n",
    "print(df[df.Blood_Pressure == 0])\n",
    "print(df[df.Triceps == 0])"
   ]
  },
  {
   "cell_type": "code",
   "execution_count": null,
   "metadata": {
    "collapsed": false
   },
   "outputs": [],
   "source": []
  },
  {
   "cell_type": "code",
   "execution_count": null,
   "metadata": {
    "collapsed": false
   },
   "outputs": [],
   "source": []
  },
  {
   "cell_type": "code",
   "execution_count": 6,
   "metadata": {
    "collapsed": false
   },
   "outputs": [
    {
     "name": "stdout",
     "output_type": "stream",
     "text": [
      "Empty DataFrame\n",
      "Columns: [Pregnant, Glucose, Blood_Pressure, Triceps, Insulin, BMI, Pedigree, Age, Class]\n",
      "Index: []\n",
      "Empty DataFrame\n",
      "Columns: [Pregnant, Glucose, Blood_Pressure, Triceps, Insulin, BMI, Pedigree, Age, Class]\n",
      "Index: []\n",
      "Empty DataFrame\n",
      "Columns: [Pregnant, Glucose, Blood_Pressure, Triceps, Insulin, BMI, Pedigree, Age, Class]\n",
      "Index: []\n",
      "Empty DataFrame\n",
      "Columns: [Pregnant, Glucose, Blood_Pressure, Triceps, Insulin, BMI, Pedigree, Age, Class]\n",
      "Index: []\n"
     ]
    }
   ],
   "source": [
    "# print(df[df.BMI == 0])\n",
    "# print(df[df.Glucose == 0])\n",
    "# print(df[df.Blood_Pressure == 0])\n",
    "# print(df[df.Triceps == 0])\n",
    "\n",
    "# These are columns with that have values of 0 where it is physically impossible, they will need to be cleaned\n",
    "\n",
    "df_clean = df[df.BMI != 0]\n",
    "df_clean = df_clean[df_clean.Blood_Pressure != 0]\n",
    "df_clean = df_clean[df_clean.Glucose != 0]\n",
    "df_clean = df_clean[df_clean.Triceps != 0]\n",
    "\n",
    "# V comment: As he goes through this, he keeps on dropping values. I.e. he keeps on reducing his dataset by defining\n",
    "# the new df_clean\n",
    "\n",
    "# verify that cleaning worked:\n",
    "\n",
    "\n",
    "print(df_clean[df_clean.BMI == 0])\n",
    "print(df_clean[df_clean.Glucose == 0])\n",
    "print(df_clean[df_clean.Blood_Pressure == 0])\n",
    "print(df_clean[df_clean.Triceps == 0])"
   ]
  },
  {
   "cell_type": "code",
   "execution_count": 12,
   "metadata": {
    "collapsed": true
   },
   "outputs": [],
   "source": [
    "# df_clean should now have all rows without 0 values of essential features, time to setup KNN\n",
    "\n",
    "from sklearn.neighbors import KNeighborsClassifier\n",
    "\n",
    "model = KNeighborsClassifier(5)\n",
    "\n",
    "to_predict = \"Class\"\n",
    "features=[\"Pregnant\", \"Glucose\",\"Blood_Pressure\", \"Triceps\", \"Insulin\", \"BMI\", \"Pedigree\",\"Age\"]\n",
    "data = df_clean[features]\n",
    "label = df_clean[to_predict]\n",
    "folds=5"
   ]
  },
  {
   "cell_type": "code",
   "execution_count": 13,
   "metadata": {
    "collapsed": true
   },
   "outputs": [],
   "source": [
    "# crossvalidate code from lecture:\n",
    "\n",
    "def crossValidateScoreDataFrame(data,label,k,model):\n",
    "    positions = data.index.values\n",
    "    np.random.shuffle(positions)\n",
    "    cv_score=0\n",
    "\n",
    "    for i in range(k):\n",
    "        pos_var = len(data)/k\n",
    "        \n",
    "        test_slice = positions[i*pos_var:(i+1)*pos_var]\n",
    "\n",
    "        train_1 = positions[ :i*pos_var]\n",
    "        train_2 = positions[(i+1)*pos_var:]\n",
    "        train_slice = np.concatenate([train_1,train_2])\n",
    "\n",
    "        model.fit(data.loc[train_slice],label.loc[train_slice])\n",
    "        k_score = model.score(data.loc[test_slice],label.loc[test_slice])\n",
    "        cv_score += k_score\n",
    "        print k_score\n",
    "        \n",
    "    return  cv_score/k"
   ]
  },
  {
   "cell_type": "code",
   "execution_count": 14,
   "metadata": {
    "collapsed": false
   },
   "outputs": [
    {
     "name": "stdout",
     "output_type": "stream",
     "text": [
      "0.72641509434\n",
      "0.650943396226\n",
      "0.764150943396\n",
      "0.745283018868\n",
      "0.72641509434\n"
     ]
    },
    {
     "data": {
      "text/plain": [
       "0.72264150943396221"
      ]
     },
     "execution_count": 14,
     "metadata": {},
     "output_type": "execute_result"
    }
   ],
   "source": [
    "# running KNN\n",
    "\n",
    "crossValidateScoreDataFrame(data,label,5,model)\n",
    "\n",
    "# KNN can predict with about a %72 accuracy using 5 nearest neighbors"
   ]
  },
  {
   "cell_type": "code",
   "execution_count": 18,
   "metadata": {
    "collapsed": true
   },
   "outputs": [],
   "source": [
    "k_range = range(1,51)"
   ]
  },
  {
   "cell_type": "code",
   "execution_count": 20,
   "metadata": {
    "collapsed": false
   },
   "outputs": [],
   "source": [
    "#k_range"
   ]
  },
  {
   "cell_type": "code",
   "execution_count": 17,
   "metadata": {
    "collapsed": false
   },
   "outputs": [
    {
     "name": "stdout",
     "output_type": "stream",
     "text": [
      "(1, 51)\n"
     ]
    }
   ],
   "source": [
    "print k_range"
   ]
  },
  {
   "cell_type": "code",
   "execution_count": null,
   "metadata": {
    "collapsed": true
   },
   "outputs": [],
   "source": []
  }
 ],
 "metadata": {
  "kernelspec": {
   "display_name": "Python 2",
   "language": "python",
   "name": "python2"
  },
  "language_info": {
   "codemirror_mode": {
    "name": "ipython",
    "version": 2
   },
   "file_extension": ".py",
   "mimetype": "text/x-python",
   "name": "python",
   "nbconvert_exporter": "python",
   "pygments_lexer": "ipython2",
   "version": "2.7.10"
  }
 },
 "nbformat": 4,
 "nbformat_minor": 0
}
